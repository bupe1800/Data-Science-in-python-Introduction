{
  "nbformat": 4,
  "nbformat_minor": 0,
  "metadata": {
    "colab": {
      "provenance": [],
      "include_colab_link": true
    },
    "kernelspec": {
      "name": "python3",
      "display_name": "Python 3"
    },
    "language_info": {
      "name": "python"
    }
  },
  "cells": [
    {
      "cell_type": "markdown",
      "metadata": {
        "id": "view-in-github",
        "colab_type": "text"
      },
      "source": [
        "<a href=\"https://colab.research.google.com/github/bupe1800/Data-Science-in-python-Introduction/blob/main/data_science_class_day_two.ipynb\" target=\"_parent\"><img src=\"https://colab.research.google.com/assets/colab-badge.svg\" alt=\"Open In Colab\"/></a>"
      ]
    },
    {
      "cell_type": "markdown",
      "source": [
        "### Welcome to my first Colab Notebook\n",
        "My first Epic Academy Class"
      ],
      "metadata": {
        "id": "vUSXSveUUV_j"
      }
    },
    {
      "cell_type": "code",
      "execution_count": null,
      "metadata": {
        "colab": {
          "base_uri": "https://localhost:8080/"
        },
        "id": "42ucn_VmTI74",
        "outputId": "e02e34f5-1367-453b-d1f7-fb25e244ce2c"
      },
      "outputs": [
        {
          "output_type": "stream",
          "name": "stdout",
          "text": [
            "I am an Epic Academy Student\n"
          ]
        }
      ],
      "source": [
        "# my first line of code\n",
        "print(\"I am an Epic Academy Student\")"
      ]
    },
    {
      "cell_type": "code",
      "source": [
        "# data types\n",
        "integer = 10"
      ],
      "metadata": {
        "id": "1U_p_YLTXE8N"
      },
      "execution_count": null,
      "outputs": []
    },
    {
      "cell_type": "code",
      "source": [
        "# perform an addition of two numbers\n",
        "print(10+40)"
      ],
      "metadata": {
        "colab": {
          "base_uri": "https://localhost:8080/"
        },
        "id": "kRrvbSP1hHj9",
        "outputId": "e1949b4f-cf82-45bb-c598-8a7e4be34395"
      },
      "execution_count": null,
      "outputs": [
        {
          "output_type": "stream",
          "name": "stdout",
          "text": [
            "50\n"
          ]
        }
      ]
    },
    {
      "cell_type": "code",
      "source": [
        "print(\"My name is Epic\")\n",
        "input()"
      ],
      "metadata": {
        "colab": {
          "base_uri": "https://localhost:8080/"
        },
        "id": "gkOWSjPBhhHg",
        "outputId": "c55c1453-103f-4c90-c794-683e24cc5761"
      },
      "execution_count": null,
      "outputs": [
        {
          "output_type": "stream",
          "name": "stdout",
          "text": [
            "My name is Epic\n"
          ]
        }
      ]
    },
    {
      "cell_type": "code",
      "source": [
        "# Challenge 1\n",
        "print (\"I already love Python\")"
      ],
      "metadata": {
        "colab": {
          "base_uri": "https://localhost:8080/"
        },
        "id": "hFu2Chogi0ZH",
        "outputId": "7fbb1582-0ef3-41d4-c2a0-1fd48d1850a8"
      },
      "execution_count": null,
      "outputs": [
        {
          "output_type": "stream",
          "name": "stdout",
          "text": [
            "I already love Python\n"
          ]
        }
      ]
    },
    {
      "cell_type": "code",
      "source": [
        "# this line prints the name of my country\n",
        "# by running the print function\n",
        "print(\"My Country is Zambia\") # run the print function"
      ],
      "metadata": {
        "colab": {
          "base_uri": "https://localhost:8080/"
        },
        "id": "fFzN7vUbjMqI",
        "outputId": "97f22ac8-cce5-4707-f322-473868dd2b9f"
      },
      "execution_count": 1,
      "outputs": [
        {
          "output_type": "stream",
          "name": "stdout",
          "text": [
            "My Country is Zambia\n"
          ]
        }
      ]
    },
    {
      "cell_type": "code",
      "source": [
        "# Challenge 2:\n",
        "# Add comments to the program below. Add comments in two lines.\n",
        "#\n",
        "# in below line i am defining what a is (variable)\n",
        "a = \"Hello Bupe\"\n",
        "\n",
        "# i want to see what a is (output)\n",
        "print(a)"
      ],
      "metadata": {
        "colab": {
          "base_uri": "https://localhost:8080/"
        },
        "id": "nAAMtDf5j5Fk",
        "outputId": "f2ebdb41-90d3-4629-ea50-d347dc11fbaa"
      },
      "execution_count": 2,
      "outputs": [
        {
          "output_type": "stream",
          "name": "stdout",
          "text": [
            "Hello Bupe\n"
          ]
        }
      ]
    },
    {
      "cell_type": "code",
      "source": [
        "# Challenge 3:\n",
        "# Run the code below then try to figure out what happens.\n",
        "# Then from your understanding, provide a documentation to the program\n",
        "# NB: By documentation we mean add comments to the program\n",
        "# to help the reader to understand the program.\n",
        "# Hint: Explain each line of the program.\n",
        "#\n",
        "\n",
        "# we define months of the year (list), create list\n",
        "months = [\"January\", \"February\", \"March\", \"April\",\n",
        "          \"May\", \"June\", \"July\", \"August\", \"September\",\n",
        "          \"October\", \"November\", \"December\"]\n",
        "\n",
        "# define a function that lists the months we defined above\n",
        "def showCalender(months):\n",
        "  for month in months: # an iteration of kind of thing\n",
        "    print(month)\n",
        "\n",
        "# we want the to see (output) of the function\n",
        "showCalender(months)"
      ],
      "metadata": {
        "colab": {
          "base_uri": "https://localhost:8080/"
        },
        "id": "X8QhyHjKlh_z",
        "outputId": "d5b100e1-0e26-44cd-f4ed-fd9daedc8c65"
      },
      "execution_count": 3,
      "outputs": [
        {
          "output_type": "stream",
          "name": "stdout",
          "text": [
            "January\n",
            "February\n",
            "March\n",
            "April\n",
            "May\n",
            "June\n",
            "July\n",
            "August\n",
            "September\n",
            "October\n",
            "November\n",
            "December\n"
          ]
        }
      ]
    },
    {
      "cell_type": "markdown",
      "source": [
        "### Variables"
      ],
      "metadata": {
        "id": "4LRvJfK_j3T8"
      }
    },
    {
      "cell_type": "code",
      "source": [
        "# Example 3\n",
        "# we store the value 10 in variable called p\n",
        "p = 10\n",
        "\n",
        "print(p)"
      ],
      "metadata": {
        "colab": {
          "base_uri": "https://localhost:8080/"
        },
        "id": "KkI89QI0j633",
        "outputId": "f88cbc3c-db4d-4b31-a2d4-2b7cb84a925c"
      },
      "execution_count": null,
      "outputs": [
        {
          "output_type": "stream",
          "name": "stdout",
          "text": [
            "10\n"
          ]
        }
      ]
    },
    {
      "cell_type": "code",
      "source": [
        "# Example 4\n",
        "savings = 1000\n",
        "\n",
        "print(savings)"
      ],
      "metadata": {
        "colab": {
          "base_uri": "https://localhost:8080/"
        },
        "id": "jAt6qs7GkmSi",
        "outputId": "68133af9-d53a-4c1d-a64e-f8a5e876f82d"
      },
      "execution_count": null,
      "outputs": [
        {
          "output_type": "stream",
          "name": "stdout",
          "text": [
            "1000\n"
          ]
        }
      ]
    },
    {
      "cell_type": "code",
      "source": [
        "# Example 5\n",
        "\n",
        "a = 10\n",
        "\n",
        "b=15\n",
        "print(b)\n",
        "print (a)"
      ],
      "metadata": {
        "colab": {
          "base_uri": "https://localhost:8080/"
        },
        "id": "YiiM5iVWkxXZ",
        "outputId": "ae60cda6-d5f3-4995-fef0-309cc0a99f1f"
      },
      "execution_count": null,
      "outputs": [
        {
          "output_type": "stream",
          "name": "stdout",
          "text": [
            "15\n",
            "10\n"
          ]
        }
      ]
    },
    {
      "cell_type": "code",
      "source": [
        "# Example 6\n",
        "\n",
        "book = \"Harry Potter and the Half Blood Prince\"\n",
        "print(book)"
      ],
      "metadata": {
        "colab": {
          "base_uri": "https://localhost:8080/"
        },
        "id": "KQ2i4Ze1lGM-",
        "outputId": "38258be8-0eec-4d21-d3da-45d0485e5227"
      },
      "execution_count": null,
      "outputs": [
        {
          "output_type": "stream",
          "name": "stdout",
          "text": [
            "Harry Potter and the Half Blood Prince\n"
          ]
        }
      ]
    },
    {
      "cell_type": "code",
      "source": [
        "# Challenge 4\n",
        "# Fix the following code and then run the cell\n",
        "\n",
        "# \"Einstein\" = 7_atomic\n",
        "# solution\n",
        "atomic_7 = \"Einstein\"\n",
        "print(atomic_7)"
      ],
      "metadata": {
        "colab": {
          "base_uri": "https://localhost:8080/"
        },
        "id": "ma0AwgYtloH_",
        "outputId": "f3b70a27-056f-4e39-9ebb-1fe54513d8d3"
      },
      "execution_count": null,
      "outputs": [
        {
          "output_type": "stream",
          "name": "stdout",
          "text": [
            "Einstein\n"
          ]
        }
      ]
    },
    {
      "cell_type": "code",
      "source": [
        "# Challenge 5\n",
        "# fix the following code and run the cell\n",
        "\n",
        "# what does the == equal sign imply\n",
        "second_number = 2000; # explicit statement\n",
        "print(second_number)"
      ],
      "metadata": {
        "colab": {
          "base_uri": "https://localhost:8080/"
        },
        "id": "iXPCSR1Xl7G9",
        "outputId": "c615e620-e336-4900-a60a-88af2985c782"
      },
      "execution_count": 5,
      "outputs": [
        {
          "output_type": "stream",
          "name": "stdout",
          "text": [
            "2000\n"
          ]
        }
      ]
    },
    {
      "cell_type": "markdown",
      "source": [
        "### Operators\n",
        "Arithmetic Operations `+, -, *, %, %%`"
      ],
      "metadata": {
        "id": "bA3GX8SHosrF"
      }
    },
    {
      "cell_type": "code",
      "source": [
        "# Example 7\n",
        "\n",
        "a = 30\n",
        "\n",
        "b = 50\n",
        "\n",
        "print (a + b)\n",
        "print (a / b)\n",
        "print ( a * b)"
      ],
      "metadata": {
        "colab": {
          "base_uri": "https://localhost:8080/"
        },
        "id": "5syJPEhgo99W",
        "outputId": "44d3b988-58fa-4157-ee3a-040c21f36d2b"
      },
      "execution_count": null,
      "outputs": [
        {
          "output_type": "stream",
          "name": "stdout",
          "text": [
            "80\n",
            "0.6\n",
            "1500\n"
          ]
        }
      ]
    },
    {
      "cell_type": "code",
      "source": [
        "# Example 8\n",
        "# what would happen if we assigned the value of (a + b) into a\n",
        "\n",
        "a =  a+b\n",
        "print (a)"
      ],
      "metadata": {
        "colab": {
          "base_uri": "https://localhost:8080/"
        },
        "id": "nMJTnGtzpVZI",
        "outputId": "7ef1f4cd-0e30-4b5e-98ea-4f6422ff31af"
      },
      "execution_count": null,
      "outputs": [
        {
          "output_type": "stream",
          "name": "stdout",
          "text": [
            "630\n"
          ]
        }
      ]
    },
    {
      "cell_type": "code",
      "source": [
        "# Example 9\n",
        "# The increment operator +=\n",
        "\n",
        "a += b\n",
        "\n",
        "print(a)"
      ],
      "metadata": {
        "colab": {
          "base_uri": "https://localhost:8080/"
        },
        "id": "95Ux8LVUqg13",
        "outputId": "79d6b940-d8fa-480c-84f7-2c847a0d867a"
      },
      "execution_count": null,
      "outputs": [
        {
          "output_type": "stream",
          "name": "stdout",
          "text": [
            "680\n"
          ]
        }
      ]
    },
    {
      "cell_type": "code",
      "source": [
        "# Example 10\n",
        "# The decrement operator\n",
        "\n",
        "b = 10\n",
        "a = 1"
      ],
      "metadata": {
        "id": "aMo5H0VYq8Y_"
      },
      "execution_count": null,
      "outputs": []
    },
    {
      "cell_type": "code",
      "source": [
        "b -= a # a counter\n",
        "\n",
        "print (b)"
      ],
      "metadata": {
        "colab": {
          "base_uri": "https://localhost:8080/"
        },
        "id": "18VioZzWresa",
        "outputId": "2ddd9e03-97ae-4e67-f79c-65453229531d"
      },
      "execution_count": null,
      "outputs": [
        {
          "output_type": "stream",
          "name": "stdout",
          "text": [
            "2\n"
          ]
        }
      ]
    },
    {
      "cell_type": "code",
      "source": [
        "# Example 11\n",
        "# Exponents\n",
        "\n",
        "print (4 ** 20)\n"
      ],
      "metadata": {
        "colab": {
          "base_uri": "https://localhost:8080/"
        },
        "id": "b8p_JZPds42k",
        "outputId": "2bb53115-d00e-4aea-b42e-8b5ed43531e2"
      },
      "execution_count": null,
      "outputs": [
        {
          "output_type": "stream",
          "name": "stdout",
          "text": [
            "1099511627776\n"
          ]
        }
      ]
    },
    {
      "cell_type": "code",
      "source": [
        "# Example 12\n",
        "# Modulo Operator\n",
        "\n",
        "print (18 % 7)"
      ],
      "metadata": {
        "colab": {
          "base_uri": "https://localhost:8080/"
        },
        "id": "3KJ5pLC4tOsi",
        "outputId": "6da2c81e-2053-4d47-d807-b18f877d9aef"
      },
      "execution_count": null,
      "outputs": [
        {
          "output_type": "stream",
          "name": "stdout",
          "text": [
            "4\n"
          ]
        }
      ]
    },
    {
      "cell_type": "code",
      "source": [
        "# Challenge 6\n",
        "# An online shop sells designer jeans and t-shirts.\n",
        "# Each jeans costs Ksh. 4500 and t-shirt costs Ksh. 2500.\n",
        "# Calculate the cost below if you were to buy 3 pairs of jeans and 6 t-shirts\n",
        "# using variables and operators.\n",
        "#\n",
        "\n",
        "jeans_cost = 4500\n",
        "tshirt_cost = 2500\n",
        "\n",
        "total_cost= 3*jeans_cost + 6*tshirt_cost\n",
        "\n",
        "print(\"Kwacha:\",total_cost) # a function takes arguments, these arguments are\n",
        "## separated by use of commas"
      ],
      "metadata": {
        "colab": {
          "base_uri": "https://localhost:8080/"
        },
        "id": "lTUanQWLtoLD",
        "outputId": "23311824-0487-4237-83f7-9cc2b778f5b8"
      },
      "execution_count": 7,
      "outputs": [
        {
          "output_type": "stream",
          "name": "stdout",
          "text": [
            "Kwacha: 28500\n"
          ]
        }
      ]
    },
    {
      "cell_type": "code",
      "source": [
        "# Challenge 7\n",
        "# Three persons have three notes of Ksh.50, Ksh.100 and Ksh.500.\n",
        "# Create three variables; person 1, person 2 and person 3 then\n",
        "# Find out the average of their money and display it below.\n",
        "#\n",
        "\n",
        "person_1 = 50\n",
        "person_2 = 100\n",
        "person_3 = 500\n",
        "\n",
        "average = (person_1 + person_2 + person_3)/3\n",
        "\n",
        "print (\"Ksh:\" , average)"
      ],
      "metadata": {
        "colab": {
          "base_uri": "https://localhost:8080/"
        },
        "id": "GVn7aHBAuW4o",
        "outputId": "89c8b75c-7964-475e-ab43-2da70377b937"
      },
      "execution_count": 8,
      "outputs": [
        {
          "output_type": "stream",
          "name": "stdout",
          "text": [
            "Ksh: 216.66666666666666\n"
          ]
        }
      ]
    },
    {
      "cell_type": "code",
      "source": [
        "# Challenge 8\n",
        "# We have Ksh 1000, which you invest with a 10% return each year.\n",
        "# After one year, it's 1000 × 1.1 = 1100 shillings, and after two years\n",
        "# it's 1000 × 1.1 × 1.1 = 121.\n",
        "# Now, write code below to calculate how much money\n",
        "# you would end up with after 7 years.\n",
        "# How much is your Ksh. 1000 worth after 15 years?\n",
        "# ----------\n",
        "# Hint: Instead of calculating with the actual values, you can use variables instead.\n",
        "# The savings variable you've created in the previous exercise represents the Ksh 1000 you started with.\n",
        "# It's up to you to create a new variable to represent 1.1 and then redo the calculations!\n",
        "# ----------\n",
        "\n",
        "# lets declare the amount that we are saving\n",
        "savings = 1000\n",
        "\n",
        "# create a multiplier variable\n",
        "multiplier = 1.1\n",
        "\n",
        "# create a result variable, the money after 7 years\n",
        "result = 1000 * 1.1 ** 7\n",
        "\n",
        "# print the value of the result here\n",
        "print(result)"
      ],
      "metadata": {
        "colab": {
          "base_uri": "https://localhost:8080/"
        },
        "id": "heu0ZPNRxrhA",
        "outputId": "e35c6e6e-689c-4834-f935-4e51dc760a88"
      },
      "execution_count": null,
      "outputs": [
        {
          "output_type": "stream",
          "name": "stdout",
          "text": [
            "1948.7171000000012\n"
          ]
        }
      ]
    },
    {
      "cell_type": "markdown",
      "source": [
        "### Inputs"
      ],
      "metadata": {
        "id": "SuU2o43119D1"
      }
    },
    {
      "cell_type": "code",
      "source": [
        "# Example 13\n",
        "# the input() function allows for user input\n",
        "\n",
        "g = input (\"Enter a number: \")\n",
        "g = int(g)\n",
        "print (g * 1.1 ** 7)"
      ],
      "metadata": {
        "colab": {
          "base_uri": "https://localhost:8080/"
        },
        "id": "JlYnA3DE17h_",
        "outputId": "8732f5df-8036-4374-8c7b-add31ab02a52"
      },
      "execution_count": null,
      "outputs": [
        {
          "output_type": "stream",
          "name": "stdout",
          "text": [
            "Enter a number: 5000\n",
            "9743.585500000007\n"
          ]
        }
      ]
    },
    {
      "cell_type": "code",
      "source": [
        "# Example 14\n",
        "# let's get two numbers and sum them\n",
        "\n",
        "x = input(\"Enter the first number: \")\n",
        "x = int(x)\n",
        "y  = input (\"Enter the second number: \")\n",
        "y= int(y)\n",
        "\n",
        "z = (x + y)\n",
        "print (z)"
      ],
      "metadata": {
        "colab": {
          "base_uri": "https://localhost:8080/"
        },
        "id": "N5DrkVqp22sP",
        "outputId": "f7706e40-1613-4182-98f5-345c3d0cf938"
      },
      "execution_count": null,
      "outputs": [
        {
          "output_type": "stream",
          "name": "stdout",
          "text": [
            "Enter the first number: 9\n",
            "Enter the second number: 10\n",
            "19\n"
          ]
        }
      ]
    },
    {
      "cell_type": "code",
      "source": [
        "# Example 15\n",
        "# let's prompt the user for a name\n",
        "\n",
        "name = input(\"What's your name? \")\n",
        "\n",
        "print (\"Happy to meet you \" + name + \"!\") # concatenate"
      ],
      "metadata": {
        "colab": {
          "base_uri": "https://localhost:8080/"
        },
        "id": "2x43YfAG5uKN",
        "outputId": "1425e00c-f56a-4268-9ffc-41d70f57ec6d"
      },
      "execution_count": null,
      "outputs": [
        {
          "output_type": "stream",
          "name": "stdout",
          "text": [
            "What's your name? Epic\n",
            "Happy to meet you Epic!\n"
          ]
        }
      ]
    },
    {
      "cell_type": "code",
      "source": [
        "# Challenge 9\n",
        "# Many people around the world think about their height in feet and inches\n",
        "# even here in Africa where many countries use the metric system.\n",
        "# Write a program reads the height in metres then converts it to\n",
        "# feet and inches. The program should display the equivalent\n",
        "# height in feet and inches.\n",
        "# NB: You can look up the necessary conversion factors on the web.\n",
        "#\n",
        "\n",
        "# OUR CODE GOES HERE\n",
        "\n",
        "height_metres = input(\"Enter your height in metres: \")\n",
        "height_metres = float(height_metres)"
      ],
      "metadata": {
        "id": "bxmvnCaS6rUN",
        "colab": {
          "base_uri": "https://localhost:8080/"
        },
        "outputId": "7a4b39d9-3b42-459c-86fc-83b3b9021f2f"
      },
      "execution_count": null,
      "outputs": [
        {
          "name": "stdout",
          "output_type": "stream",
          "text": [
            "Enter your height in metres: 1.8\n"
          ]
        }
      ]
    },
    {
      "cell_type": "code",
      "source": [
        "# Challenge 10\n",
        "# Given a certain column of data that has radius, a data scientist would like\n",
        "# to compute the volume the respective cylinder and save the result to a new column.\n",
        "# Thus, write a program that reads the radius of cylinder, along with its height\n",
        "# from the user to calculate the volume in the console.\n",
        "#\n",
        "#OUR CODE GOES HERE\n",
        "#Volume = pi*r**2*h"
      ],
      "metadata": {
        "id": "GdJdFugK6xuy"
      },
      "execution_count": null,
      "outputs": []
    },
    {
      "cell_type": "code",
      "source": [
        "# Challenge 11\n",
        "# While paying for her parking fee of Ksh. 50 , Jane inserts a Note into\n",
        "# the paying machine and gets back her change.\n",
        "# Write a program that reads as input the note greater than Ksh. 200\n",
        "# and returns change in notes of 100 and 50.\n",
        "# Use the knowledge of variables to printing, comments, operators\n",
        "# and input to print the no of denominations given\n",
        "#\n",
        "\n"
      ],
      "metadata": {
        "id": "jH3iR4v663BG"
      },
      "execution_count": null,
      "outputs": []
    },
    {
      "cell_type": "markdown",
      "source": [
        "### Data Types"
      ],
      "metadata": {
        "id": "Pxdvzo1d25Qm"
      }
    },
    {
      "cell_type": "code",
      "source": [
        "# Example 16\n",
        "# strings, integers, floats, boolean\n",
        "\n",
        "\n",
        "# integer data type\n",
        "55\n",
        "\n",
        "#float data type\n",
        "3.142\n",
        "\n",
        "# string data type\n",
        "\"This is Epic\"\n",
        "\n",
        "# boolean\n",
        "True"
      ],
      "metadata": {
        "colab": {
          "base_uri": "https://localhost:8080/"
        },
        "id": "Q_MuY3_k29Sc",
        "outputId": "053e3092-df25-4ac7-9621-5c8951f09c38"
      },
      "execution_count": null,
      "outputs": [
        {
          "output_type": "execute_result",
          "data": {
            "text/plain": [
              "True"
            ]
          },
          "metadata": {},
          "execution_count": 1
        }
      ]
    },
    {
      "cell_type": "code",
      "source": [
        "# Example 17\n",
        "print(55)\n",
        "print(3.142)\n",
        "print(\"This is Epic\")\n",
        "print(True)"
      ],
      "metadata": {
        "colab": {
          "base_uri": "https://localhost:8080/"
        },
        "id": "O_elrNqb3rES",
        "outputId": "5ce16704-2eb5-420c-c8b8-cc138833fad6"
      },
      "execution_count": null,
      "outputs": [
        {
          "output_type": "stream",
          "name": "stdout",
          "text": [
            "55\n",
            "3.142\n",
            "This is Epic\n",
            "True\n"
          ]
        }
      ]
    },
    {
      "cell_type": "code",
      "source": [
        "# Example 18\n",
        "\n",
        "print(int(55))\n",
        "print(float(3.142))\n",
        "print(str(\"This is Epic\"))\n",
        "print(bool(True))"
      ],
      "metadata": {
        "colab": {
          "base_uri": "https://localhost:8080/"
        },
        "id": "oOB54ZZy34b0",
        "outputId": "d0f15226-9aa3-45d5-c8c2-5b3e976b7c7b"
      },
      "execution_count": null,
      "outputs": [
        {
          "output_type": "stream",
          "name": "stdout",
          "text": [
            "55\n",
            "3.142\n",
            "This is Epic\n",
            "True\n"
          ]
        }
      ]
    },
    {
      "cell_type": "code",
      "source": [
        "# Example 19\n",
        "# the type function allows us to know what data type is a certain value\n",
        "\n",
        "type(55)"
      ],
      "metadata": {
        "colab": {
          "base_uri": "https://localhost:8080/"
        },
        "id": "bCYoKpcp4K-j",
        "outputId": "a6356df6-2ba7-4870-8ab6-2ad804d4beb0"
      },
      "execution_count": null,
      "outputs": [
        {
          "output_type": "execute_result",
          "data": {
            "text/plain": [
              "int"
            ]
          },
          "metadata": {},
          "execution_count": 4
        }
      ]
    },
    {
      "cell_type": "code",
      "source": [
        "# Example 20\n",
        "# find out the type of a float\n",
        "\n",
        "type(3.142)"
      ],
      "metadata": {
        "colab": {
          "base_uri": "https://localhost:8080/"
        },
        "id": "cNij9lYL4_Yi",
        "outputId": "7efe3766-571a-4d18-e725-1b1f2775844c"
      },
      "execution_count": null,
      "outputs": [
        {
          "output_type": "execute_result",
          "data": {
            "text/plain": [
              "float"
            ]
          },
          "metadata": {},
          "execution_count": 5
        }
      ]
    },
    {
      "cell_type": "code",
      "source": [
        "# Example 21\n",
        "# find out the type of Epic Learn\n",
        "\n",
        "type(\"Epic Learn\")"
      ],
      "metadata": {
        "colab": {
          "base_uri": "https://localhost:8080/"
        },
        "id": "XkauWHI85L8g",
        "outputId": "b925e556-bc6d-450e-95f9-6932ef9da6a8"
      },
      "execution_count": null,
      "outputs": [
        {
          "output_type": "execute_result",
          "data": {
            "text/plain": [
              "str"
            ]
          },
          "metadata": {},
          "execution_count": 6
        }
      ]
    },
    {
      "cell_type": "code",
      "source": [
        "# Challenge 12\n",
        "# what is the data type of: 16/4\n",
        "#\n",
        "\n",
        "type(16/4)"
      ],
      "metadata": {
        "colab": {
          "base_uri": "https://localhost:8080/"
        },
        "id": "5DheE57s5icu",
        "outputId": "a2099fc6-318d-4d7e-cc28-9a768d755b32"
      },
      "execution_count": null,
      "outputs": [
        {
          "output_type": "execute_result",
          "data": {
            "text/plain": [
              "float"
            ]
          },
          "metadata": {},
          "execution_count": 7
        }
      ]
    },
    {
      "cell_type": "code",
      "source": [
        "# Challenge 13\n",
        "# what is the type of this result: 6 // 2\n",
        "\n",
        "type(7 // 2)"
      ],
      "metadata": {
        "colab": {
          "base_uri": "https://localhost:8080/"
        },
        "id": "b6ODaIk65uRm",
        "outputId": "bff1a180-30e4-4352-a7ed-af9b06e22673"
      },
      "execution_count": null,
      "outputs": [
        {
          "output_type": "execute_result",
          "data": {
            "text/plain": [
              "int"
            ]
          },
          "metadata": {},
          "execution_count": 11
        }
      ]
    },
    {
      "cell_type": "code",
      "source": [
        "# Challenge 14\n",
        "# What do you think will be output when we run this code\n",
        "\n",
        "type(3.2) == float"
      ],
      "metadata": {
        "colab": {
          "base_uri": "https://localhost:8080/"
        },
        "id": "68cStEGo6Lqv",
        "outputId": "805ec2b7-9edc-4266-d64d-24f5339d944a"
      },
      "execution_count": null,
      "outputs": [
        {
          "output_type": "execute_result",
          "data": {
            "text/plain": [
              "True"
            ]
          },
          "metadata": {},
          "execution_count": 16
        }
      ]
    },
    {
      "cell_type": "code",
      "source": [
        "# Example 22\n",
        "# boolean values\n",
        "\n",
        "print(True)\n",
        "print(False)"
      ],
      "metadata": {
        "colab": {
          "base_uri": "https://localhost:8080/"
        },
        "id": "ykJ7HH8P7n6j",
        "outputId": "661a8336-bd83-4d4b-ff3d-a0fb743b27a8"
      },
      "execution_count": null,
      "outputs": [
        {
          "output_type": "stream",
          "name": "stdout",
          "text": [
            "True\n",
            "False\n"
          ]
        }
      ]
    },
    {
      "cell_type": "code",
      "source": [
        "# Example 23\n",
        "# find out the type of a boolean value\n",
        "\n",
        "type (True)"
      ],
      "metadata": {
        "colab": {
          "base_uri": "https://localhost:8080/"
        },
        "id": "Qg_BIc6E8DsS",
        "outputId": "de32e5cb-9e2a-4fad-f672-9764633ada99"
      },
      "execution_count": null,
      "outputs": [
        {
          "output_type": "execute_result",
          "data": {
            "text/plain": [
              "bool"
            ]
          },
          "metadata": {},
          "execution_count": 19
        }
      ]
    },
    {
      "cell_type": "code",
      "source": [
        "# Example 24\n",
        "# convert data types from one type to another\n",
        "\n",
        "x = int(90)\n",
        "print(float(x))"
      ],
      "metadata": {
        "colab": {
          "base_uri": "https://localhost:8080/"
        },
        "id": "SRbpAuY78eOL",
        "outputId": "e977afe5-4f31-4ad6-e18a-97c152bf63ca"
      },
      "execution_count": null,
      "outputs": [
        {
          "output_type": "stream",
          "name": "stdout",
          "text": [
            "90.0\n"
          ]
        }
      ]
    },
    {
      "cell_type": "code",
      "source": [
        "# Example 25\n",
        "# converting float to integer\n",
        "\n",
        "x = float(6.7894321)\n",
        "\n",
        "print(int(x))"
      ],
      "metadata": {
        "colab": {
          "base_uri": "https://localhost:8080/"
        },
        "id": "wLXPh4w89CLq",
        "outputId": "0306e8b7-bd31-4835-8eff-4b2992ec02b9"
      },
      "execution_count": null,
      "outputs": [
        {
          "output_type": "stream",
          "name": "stdout",
          "text": [
            "6\n"
          ]
        }
      ]
    },
    {
      "cell_type": "code",
      "source": [
        "# Example 26\n",
        "# rounding off\n",
        "\n",
        "x = float(6.7894321)\n",
        "x = round(x, 0)\n",
        "print(int(x))"
      ],
      "metadata": {
        "colab": {
          "base_uri": "https://localhost:8080/"
        },
        "id": "5pAFgmxo9cwT",
        "outputId": "88c0e927-1624-4b58-e897-53bccabeac9a"
      },
      "execution_count": null,
      "outputs": [
        {
          "output_type": "stream",
          "name": "stdout",
          "text": [
            "7\n"
          ]
        }
      ]
    },
    {
      "cell_type": "code",
      "source": [
        "# Example 27\n",
        "x = round(float(input(\"Enter a number \")), 0)\n",
        "\n",
        "print (int(x))"
      ],
      "metadata": {
        "colab": {
          "base_uri": "https://localhost:8080/"
        },
        "id": "4-AEQwKe98zz",
        "outputId": "250a118d-4411-4751-d646-d67b33a0025a"
      },
      "execution_count": null,
      "outputs": [
        {
          "output_type": "stream",
          "name": "stdout",
          "text": [
            "Enter a number 5.98745\n",
            "6\n"
          ]
        }
      ]
    },
    {
      "cell_type": "code",
      "source": [
        "# Example 28\n",
        "# convert a string into an integer\n",
        "\n",
        "x = \"500\"\n",
        "\n",
        "print(int(x))"
      ],
      "metadata": {
        "colab": {
          "base_uri": "https://localhost:8080/"
        },
        "id": "oA8u70mS-vLT",
        "outputId": "562ba98c-5427-426c-f2bc-1d7002aceab1"
      },
      "execution_count": null,
      "outputs": [
        {
          "output_type": "stream",
          "name": "stdout",
          "text": [
            "500\n"
          ]
        }
      ]
    },
    {
      "cell_type": "code",
      "source": [
        "# Example 29\n",
        "# is it possible to convert a long string into an integer\n",
        "\n",
        "a = str(\"1 or 3 people\")\n",
        "a = str.replace(a, a, \"13\")\n",
        "print(int(a))"
      ],
      "metadata": {
        "colab": {
          "base_uri": "https://localhost:8080/"
        },
        "id": "P9DVfGSBAHsN",
        "outputId": "11105499-5b46-4263-813a-4d06eb213b65"
      },
      "execution_count": null,
      "outputs": [
        {
          "output_type": "stream",
          "name": "stdout",
          "text": [
            "13\n"
          ]
        }
      ]
    },
    {
      "cell_type": "code",
      "source": [
        "# Example 30\n",
        "# let's cast 1 into a boolean\n",
        "\n",
        "bool(1)"
      ],
      "metadata": {
        "colab": {
          "base_uri": "https://localhost:8080/"
        },
        "id": "UL-jfZh9BTtN",
        "outputId": "b6a510f3-5a82-4ef6-dcde-f61a2319572a"
      },
      "execution_count": null,
      "outputs": [
        {
          "output_type": "execute_result",
          "data": {
            "text/plain": [
              "True"
            ]
          },
          "metadata": {},
          "execution_count": 33
        }
      ]
    },
    {
      "cell_type": "code",
      "source": [
        "# Example 31\n",
        "# let's cast 0 into a boolean\n",
        "\n",
        "bool(0)"
      ],
      "metadata": {
        "colab": {
          "base_uri": "https://localhost:8080/"
        },
        "id": "amqi2-qtBg_9",
        "outputId": "e06ef543-df51-498c-8ded-e946061c5a17"
      },
      "execution_count": null,
      "outputs": [
        {
          "output_type": "execute_result",
          "data": {
            "text/plain": [
              "False"
            ]
          },
          "metadata": {},
          "execution_count": 34
        }
      ]
    },
    {
      "cell_type": "code",
      "source": [
        "# Example 32\n",
        "bool(20)"
      ],
      "metadata": {
        "colab": {
          "base_uri": "https://localhost:8080/"
        },
        "id": "Qls443_RBv5Q",
        "outputId": "21a37522-faf1-4d9d-92fb-e552907cd07a"
      },
      "execution_count": null,
      "outputs": [
        {
          "output_type": "execute_result",
          "data": {
            "text/plain": [
              "True"
            ]
          },
          "metadata": {},
          "execution_count": 39
        }
      ]
    },
    {
      "cell_type": "markdown",
      "source": [
        " # Conditinal if statements"
      ],
      "metadata": {
        "id": "J9QqkefUCiSC"
      }
    },
    {
      "cell_type": "code",
      "source": [
        "# Example 33\n",
        "# we write an if statement using the word if\n",
        "\n",
        "x = 200\n",
        "y = 100\n",
        "\n",
        "if y < x:\n",
        "  print(\"Yes\")"
      ],
      "metadata": {
        "colab": {
          "base_uri": "https://localhost:8080/"
        },
        "id": "-UYztgIjB8DW",
        "outputId": "f6f2d0e0-1f49-4f16-903d-fa9609628bc4"
      },
      "execution_count": null,
      "outputs": [
        {
          "output_type": "stream",
          "name": "stdout",
          "text": [
            "Yes\n"
          ]
        }
      ]
    },
    {
      "cell_type": "code",
      "source": [
        "x=2\n",
        "y=4\n",
        "if x == y:\n",
        "  print('yes')\n",
        "else:\n",
        "  print('no')"
      ],
      "metadata": {
        "colab": {
          "base_uri": "https://localhost:8080/"
        },
        "id": "Epq92bD01RQw",
        "outputId": "7c6720bc-5d89-48c4-8e61-c92794e02888"
      },
      "execution_count": null,
      "outputs": [
        {
          "output_type": "stream",
          "name": "stdout",
          "text": [
            "no\n"
          ]
        }
      ]
    },
    {
      "cell_type": "code",
      "source": [
        "# Example 34\n",
        "# if statement using inputs\n",
        "\n",
        "x = input(\"Enter a value for x \")\n",
        "y = input(\"Enter a value for y \")\n",
        "\n",
        "# eligibility check for youtube\n",
        "if y < x:\n",
        "  print(\"Sorry, you're not eligible\")"
      ],
      "metadata": {
        "colab": {
          "base_uri": "https://localhost:8080/"
        },
        "id": "pPGhR36YE44C",
        "outputId": "c73f6050-ea26-40b2-84bf-a3d610361602"
      },
      "execution_count": null,
      "outputs": [
        {
          "output_type": "stream",
          "name": "stdout",
          "text": [
            "Enter a value for x 18\n",
            "Enter a value for y 14\n",
            "Sorry, you're not eligible\n"
          ]
        }
      ]
    },
    {
      "cell_type": "code",
      "source": [
        "# Challenge 15\n",
        "# In this challenge, we will find out if y is less than 7\n",
        "# If so, we will print out yes.\n",
        "#\n",
        "\n",
        "# We first declare and assign 1 to variable x and 7 to variable y\n",
        "x = 1\n",
        "y = 7\n",
        "\n",
        "if y < x:\n",
        "  print(\"yes\")"
      ],
      "metadata": {
        "id": "lLcu_YfmF050"
      },
      "execution_count": null,
      "outputs": []
    },
    {
      "cell_type": "markdown",
      "source": [
        "### ELSEIF `(elif)`"
      ],
      "metadata": {
        "id": "GcREHLuZGvDN"
      }
    },
    {
      "cell_type": "code",
      "source": [
        "# Example 35\n",
        "# elif tries another condition if the previous condition was not true\n",
        "\n",
        "x = 33\n",
        "y = 34\n",
        "\n",
        "if y < x:\n",
        "  print (\"x is better\")\n",
        "elif x == y:\n",
        "  print(\"no difference\")\n",
        "elif y > x:\n",
        "  print (\"y is better\")"
      ],
      "metadata": {
        "colab": {
          "base_uri": "https://localhost:8080/"
        },
        "id": "WrUGVND0Gxz6",
        "outputId": "d9489d2a-3928-4fb7-d056-4753a6f75f72"
      },
      "execution_count": null,
      "outputs": [
        {
          "output_type": "stream",
          "name": "stdout",
          "text": [
            "y is better\n"
          ]
        }
      ]
    },
    {
      "cell_type": "code",
      "source": [
        "# Example 36\n",
        "# another example of using elif\n",
        "\n",
        "choice = \"b\"\n",
        "\n",
        "if choice == \"a\":\n",
        "  print(\"Your choice is 'a'.\")\n",
        "elif choice == 'b':\n",
        "  print(\"Your choice is 'b'.\")\n",
        "elif choice == \"c\":\n",
        "  print(\"Your choice is 'c'.\")"
      ],
      "metadata": {
        "colab": {
          "base_uri": "https://localhost:8080/"
        },
        "id": "5VRLc7EbIM0z",
        "outputId": "da5b66b0-4bb3-4adc-9ce9-cf7d68af513f"
      },
      "execution_count": null,
      "outputs": [
        {
          "output_type": "stream",
          "name": "stdout",
          "text": [
            "Your choice is 'b'.\n"
          ]
        }
      ]
    },
    {
      "cell_type": "code",
      "source": [
        "# Challenge 16\n",
        "# write a program that reads an integer\n",
        "# from a user then displays a message indicating\n",
        "# whether the integer is even or odd.\n",
        "#\n",
        "\n",
        "x = int(input(\"Enter a number: \"))\n",
        "\n",
        "if x % 2 == 0:\n",
        "  print (\"The number is Even\")\n",
        "else:\n",
        "  print (\"The number is Odd\")"
      ],
      "metadata": {
        "colab": {
          "base_uri": "https://localhost:8080/"
        },
        "id": "JKykbJ4kJAsM",
        "outputId": "111fba74-a877-4aea-badc-a5367a4245ad"
      },
      "execution_count": null,
      "outputs": [
        {
          "output_type": "stream",
          "name": "stdout",
          "text": [
            "Enter a number: 4\n",
            "The number is Even\n"
          ]
        }
      ]
    },
    {
      "cell_type": "code",
      "source": [
        "# Challenge 17\n",
        "# Can you write a program that has a third option to detect prime numbers?\n",
        "#\n",
        "\n",
        "x = int(input(\"Enter a number: \"))\n",
        "\n",
        "if x % 2 == 0:\n",
        "  print (\"The number is Even\")\n",
        "elif x % 3 == 0:\n",
        "  print (\"The number is Prime\")\n",
        "else:\n",
        "  print (\"The number is Odd\")"
      ],
      "metadata": {
        "id": "S-PmNC-RJPTD",
        "colab": {
          "base_uri": "https://localhost:8080/"
        },
        "outputId": "ad549175-6ff9-48d9-f6e6-68b624876215"
      },
      "execution_count": 9,
      "outputs": [
        {
          "output_type": "stream",
          "name": "stdout",
          "text": [
            "Enter a number: 4\n",
            "The number is Even\n"
          ]
        }
      ]
    },
    {
      "cell_type": "code",
      "source": [
        "# Challenge 18\n",
        "# We now write a program that reads a input from a user.\n",
        "# If the user enters a, e, i, o or u then our program should\n",
        "# display a message indicating that the entered letter is a vowel.\n",
        "# If our user enters y then our program should display a message\n",
        "# indicating that sometimes y is a vowel, and sometimes y is a consonant.\n",
        "# Otherwise our program should display a message indicating that the\n",
        "# letter is a consonant.\n",
        "#\n",
        "enter = input(\"Enter a letter: \")\n",
        "\n",
        "if enter == \"a\" or enter == \"e\" or enter == \"i\" or enter == \"o\" or enter == \"u\":\n",
        "  print(\"The letter is a vowel\")\n",
        "elif enter == \"y\":\n",
        "    print(\"sometimes y is a vowel, and sometimes y is a consonant\")\n",
        "else:\n",
        "  print(\"The letter is a consonant\")\n"
      ],
      "metadata": {
        "id": "L7XQxJ47MOIB",
        "colab": {
          "base_uri": "https://localhost:8080/"
        },
        "outputId": "cc3ca6f1-fdfe-4fe9-c3e7-9621a8234629"
      },
      "execution_count": 11,
      "outputs": [
        {
          "output_type": "stream",
          "name": "stdout",
          "text": [
            "Enter a letter: e\n",
            "The letter is a vowel\n"
          ]
        }
      ]
    },
    {
      "cell_type": "code",
      "source": [
        "# Challenge 19\n",
        "# Let's now also write another program that asks for a number and computes the\n",
        "# square of that number. If the square is 100 or greater, print the squared value\n",
        "# and the word 'big'. Otherwise if the square is 50 or greater, print the\n",
        "# squared value and the word 'medium'. Otherwise just print 'too small to bother with'.\n",
        "# Hint: To compute squared, use x*x or x**2\n",
        "#\n",
        "\n",
        "enter = int(input(\"Enter a number: \"))\n",
        "\n",
        "if enter**2 >= 100:\n",
        "  print(enter**2, \"big\")\n",
        "elif enter**2 >= 50:\n",
        "  print(enter**2, \"medium\")\n",
        "else:\n",
        "  print('too small to bother with')"
      ],
      "metadata": {
        "id": "6A8JISdkMTon",
        "colab": {
          "base_uri": "https://localhost:8080/"
        },
        "outputId": "068834f8-663f-4934-cf2e-8630e042a448"
      },
      "execution_count": null,
      "outputs": [
        {
          "output_type": "stream",
          "name": "stdout",
          "text": [
            "Enter a number: 50\n",
            "2500 big\n"
          ]
        }
      ]
    },
    {
      "cell_type": "markdown",
      "source": [
        "### else"
      ],
      "metadata": {
        "id": "mPHVto31MajK"
      }
    },
    {
      "cell_type": "code",
      "source": [
        "# Example 37\n",
        "# else will catch anything else that is not captured by the\n",
        "# preceding statements\n",
        "\n",
        "# declare some variables\n",
        "x = 134\n",
        "y = 32\n",
        "\n",
        "if y > x:\n",
        "  print(\"y is better\")\n",
        "else:\n",
        "  print (\"x is better\")"
      ],
      "metadata": {
        "colab": {
          "base_uri": "https://localhost:8080/"
        },
        "id": "WbNDoG7BMe79",
        "outputId": "6d056c92-15bb-437b-d286-17fd1cb547c2"
      },
      "execution_count": null,
      "outputs": [
        {
          "output_type": "stream",
          "name": "stdout",
          "text": [
            "x is better\n"
          ]
        }
      ]
    },
    {
      "cell_type": "code",
      "source": [
        "# Challenge 20\n",
        "# Let's write a program that reads a month and day from the user.\n",
        "# If the month and day matches one of the holidays listed previously\n",
        "# then the program should display the Kenyan holiday’s name.\n",
        "# Otherwise our program should indicate that the entered month and day\n",
        "# do not correspond to a holiday. (You should use the else keyword)\n",
        "#\n",
        "\n",
        "month = input(\"Enter a month: \")\n",
        "day = input(\"Enter a day: \")\n",
        "if month == \"October\" and day == \"10\":\n",
        "  print(\"Halloween\")\n",
        "elif month == \"December\" and day == \"25\":\n",
        "  print(\"Christmas\")\n",
        "else:\n",
        "  print(\"No holiday\")"
      ],
      "metadata": {
        "id": "RLyxBEBmNdaE",
        "colab": {
          "base_uri": "https://localhost:8080/"
        },
        "outputId": "7b1f5ce1-0027-4a17-92a0-3b6814cf86b1"
      },
      "execution_count": null,
      "outputs": [
        {
          "output_type": "stream",
          "name": "stdout",
          "text": [
            "Enter a month: january\n",
            "Enter a day: 18\n",
            "No holiday\n"
          ]
        }
      ]
    },
    {
      "cell_type": "code",
      "source": [
        "# Challenge 21\n",
        "# Write a program that reads a wavelength from the user and reports its color.\n",
        "# Display an appropriate error message if the wavelength entered by the user\n",
        "# is outside of the visible spectrum.\n",
        "# (You can do external research on this challenge to determine the wavelength).\n",
        "# You should use the else keyword.\n",
        "#\n"
      ],
      "metadata": {
        "id": "3_CoVDRmNmme"
      },
      "execution_count": null,
      "outputs": []
    },
    {
      "cell_type": "code",
      "source": [
        "# Challenge 22\n",
        "# Let's create a program that reads the name of a month from the user as a string,\n",
        "# then displays the number of days in that month.\n",
        "# The length of a month varies from 28 to 31 days.\n",
        "# The program needs to also display “28 or 29 days” for February\n",
        "# so that leap years are taken into account.\n",
        "# The program should use the else keyword.\n",
        "#\n",
        "\n",
        "month = input(\"Enter a month: \")\n",
        "if month == \"January\" or month == \"March\" or month == \"May\" or month == \"July\" or month == \"August\" or month == \"October\" or month == \"December\":\n",
        "  print(\"31 days\")\n",
        "  if month == \"February\":\n",
        "    print(\"28 or 29 days\")\n",
        "else:\n",
        "  print(\"30 days\")"
      ],
      "metadata": {
        "id": "TYcm4mBZNsQk",
        "colab": {
          "base_uri": "https://localhost:8080/"
        },
        "outputId": "37a626a7-8b6f-4fc4-9819-f092d04c0185"
      },
      "execution_count": 12,
      "outputs": [
        {
          "output_type": "stream",
          "name": "stdout",
          "text": [
            "Enter a month: May\n",
            "31 days\n"
          ]
        }
      ]
    },
    {
      "cell_type": "markdown",
      "source": [
        "AND (and)"
      ],
      "metadata": {
        "id": "hBKrFc6USz6r"
      }
    },
    {
      "cell_type": "code",
      "source": [
        "# Example 38\n",
        "# and - we are going conditional statements\n",
        "\n",
        "# declare some variables\n",
        "\n",
        "x =11\n",
        "y = 10\n",
        "z = 12\n",
        "\n",
        "if x > y and z > x:\n",
        "  print (\"Both conditions are True\")"
      ],
      "metadata": {
        "colab": {
          "base_uri": "https://localhost:8080/"
        },
        "id": "CILjhS1DSxoj",
        "outputId": "e604f59d-5ec8-4207-94ec-f63686574021"
      },
      "execution_count": 13,
      "outputs": [
        {
          "output_type": "stream",
          "name": "stdout",
          "text": [
            "Both conditions are True\n"
          ]
        }
      ]
    },
    {
      "cell_type": "code",
      "source": [
        "# Example 39\n",
        "\n",
        "# declare some variables\n",
        "name = \"Zulu\"\n",
        "team = \"Manchester United\"\n",
        "\n",
        "if name == \"Zulu\" and team == \"Manchester United\":\n",
        "  print (\"The Glory will return\")"
      ],
      "metadata": {
        "colab": {
          "base_uri": "https://localhost:8080/"
        },
        "id": "_bZPzREzUItJ",
        "outputId": "2ee88797-8c5d-46f4-bcd0-ce44bceef28f"
      },
      "execution_count": null,
      "outputs": [
        {
          "output_type": "stream",
          "name": "stdout",
          "text": [
            "The Glory will return\n"
          ]
        }
      ]
    },
    {
      "cell_type": "code",
      "source": [
        "# Example 40\n",
        "\n",
        "# declaring our variables\n",
        "name = \"Bupe\"\n",
        "team = \"Manchester United\"\n",
        "\n",
        "if name == \"Bupe\" and team == \"Manchester United\":\n",
        "  print(\"Your name is Bupe and you are a former Manchester United fan\")\n",
        "else:\n",
        "  print(\"The world is small and you do not have to suffer\")"
      ],
      "metadata": {
        "colab": {
          "base_uri": "https://localhost:8080/"
        },
        "id": "718FIzExU7hv",
        "outputId": "ec091fc7-6446-41d4-a933-bbb3bb8880df"
      },
      "execution_count": null,
      "outputs": [
        {
          "output_type": "stream",
          "name": "stdout",
          "text": [
            "Your name is Bupe and you are a former Manchester United fan\n"
          ]
        }
      ]
    },
    {
      "cell_type": "code",
      "source": [
        "# Challenge 23\n",
        "# Given the 3 sides of a triangle x, y and z, let's find out\n",
        "# whether the triangle is equilateral, isosceles or obtuse.\n",
        "# Note: An equilateral triangle has all sides are equal,\n",
        "# isosceles means that two of the sides are equal but not the third one,\n",
        "# obtuse means all 3 are different. The user will be prompted\n",
        "# to provide the values of x, y and z\n",
        "#\n",
        "\n",
        "# enter the inputs for x,y,z\n",
        "\n",
        "x = int(input(\"Enter the first number:\"))\n",
        "y = int(input(\"Enter the second number:\"))\n",
        "z = int(input(\"Enter the third number:\"))\n",
        "\n",
        "#if x==y and x ==z and y==z: -the leah solution\n",
        "#if x == y and z == x: # the sampa solution\n",
        "# if x == z and x == y and y ==z: # the zulu solution\n",
        "if x == y == z:\n",
        "  print(\"the triangle is an equilateral\")\n",
        "#elif x == y and x != z or x == z and x != y or y ==z and y !=x: # the leah solution\n",
        "elif x == y or x==z or y ==z: # the bupe solution\n",
        "#elif x != y and x != z and y != z: # the zulu solution\n",
        "#elif x==y or y==z or x==z: # the titus solution\n",
        "  print(\"the triangle is isosceles\")\n",
        "else:\n",
        "  print(\"the triangle is obtuse\")"
      ],
      "metadata": {
        "colab": {
          "base_uri": "https://localhost:8080/"
        },
        "id": "25LloFcmVrCq",
        "outputId": "c1a2702f-cafc-48d0-81e4-f0ff3ec6622a"
      },
      "execution_count": null,
      "outputs": [
        {
          "output_type": "stream",
          "name": "stdout",
          "text": [
            "Enter the first number:5\n",
            "Enter the second number:5\n",
            "Enter the third number:7\n",
            "the triangle is isosceles\n"
          ]
        }
      ]
    },
    {
      "cell_type": "markdown",
      "source": [
        "### OR (or)"
      ],
      "metadata": {
        "id": "gvM3MjVkWxMI"
      }
    },
    {
      "cell_type": "code",
      "source": [
        "# Example 41\n",
        "\n",
        "if x != y != z:\n",
        "  print(\"Obtuse\")\n",
        "elif x ==y == z:\n",
        "  print(\"Equilateral\")\n",
        "else:\n",
        "  print(\"Isosceles\")"
      ],
      "metadata": {
        "id": "2mn0PQJ7W3A8"
      },
      "execution_count": null,
      "outputs": []
    },
    {
      "cell_type": "code",
      "source": [
        "#Example 42\n",
        "\n",
        "x = int(input(\"Enter the first number:\"))\n",
        "y = int(input(\"Enter the second number:\"))\n",
        "z = int(input(\"Enter the third number:\"))\n",
        "\n",
        "\n",
        "if x == y == z:\n",
        "  print(\"the triangle is an equilateral\")\n",
        "elif (x == y or x == z) or (y == z):\n",
        "  print(\"the triangle is isosceles\")\n",
        "else:\n",
        "  print(\"the triangle is obtuse\")"
      ],
      "metadata": {
        "id": "wsv-9vUdexpm"
      },
      "execution_count": null,
      "outputs": []
    },
    {
      "cell_type": "code",
      "source": [
        "# Example 43\n",
        "\n",
        "# declaring our variables\n",
        "x = 10\n",
        "y = 11\n",
        "z = 9\n",
        "\n",
        "if x > y or x >z:\n",
        "  print (\"At least one of the conditions is True\")"
      ],
      "metadata": {
        "colab": {
          "base_uri": "https://localhost:8080/"
        },
        "id": "K7bEroJzgMkg",
        "outputId": "f4c6b7f4-c5c8-4534-e938-c6905a244725"
      },
      "execution_count": null,
      "outputs": [
        {
          "output_type": "stream",
          "name": "stdout",
          "text": [
            "At least one of the conditions is True\n"
          ]
        }
      ]
    },
    {
      "cell_type": "code",
      "source": [
        "# Challenge 24\n",
        "# Write a program that reads a wavelength from the user and reports its color.\n",
        "# Display an appropriate error message if the wavelength entered by the user\n",
        "# is outside of the visible spectrum.\n",
        "# (You can do external research on this challenge to determine the wavelength).\n",
        "# You should use the else keyword.\n",
        "#\n"
      ],
      "metadata": {
        "id": "fHale9izg0P1"
      },
      "execution_count": null,
      "outputs": []
    },
    {
      "cell_type": "markdown",
      "source": [
        "## Loops and Iterations"
      ],
      "metadata": {
        "id": "cDkGe1CJiOMB"
      }
    },
    {
      "cell_type": "code",
      "source": [
        "# for, while, breaks, counters\n",
        "# Example 44\n",
        "\n",
        "for i in range(5):\n",
        "  print(f\"Iteration {i}\")"
      ],
      "metadata": {
        "colab": {
          "base_uri": "https://localhost:8080/"
        },
        "id": "LJ5DPAE-iR5j",
        "outputId": "7c91ecaf-a254-43a1-9ed0-a11cc46e43d4"
      },
      "execution_count": null,
      "outputs": [
        {
          "output_type": "stream",
          "name": "stdout",
          "text": [
            "Iteration 0\n",
            "Iteration 1\n",
            "Iteration 2\n",
            "Iteration 3\n",
            "Iteration 4\n"
          ]
        }
      ]
    },
    {
      "cell_type": "code",
      "source": [
        "# Example 45\n",
        "# the f stands for f-string and allows us to put expressions inside a string\n",
        "\n",
        "countries = [\"Kenya\", \"Zambia\", \"South Africa\"]\n",
        "\n",
        "for i in countries:\n",
        "  print(f\"Welcome to {i}\")"
      ],
      "metadata": {
        "colab": {
          "base_uri": "https://localhost:8080/"
        },
        "id": "GFSszrLolH9s",
        "outputId": "929a809a-4169-473b-88e6-0b02163df15f"
      },
      "execution_count": null,
      "outputs": [
        {
          "output_type": "stream",
          "name": "stdout",
          "text": [
            "Welcome to Kenya\n",
            "Welcome to Zambia\n",
            "Welcome to South Africa\n"
          ]
        }
      ]
    },
    {
      "cell_type": "code",
      "source": [
        "# Example 46\n",
        "# using while\n",
        "# loop is performed until a condition is met\n",
        "\n",
        "count = 1\n",
        "while count < 6:\n",
        "  print(f\"Count is {count}\")\n",
        "  count += 1"
      ],
      "metadata": {
        "colab": {
          "base_uri": "https://localhost:8080/"
        },
        "id": "QoW0pB83lm2S",
        "outputId": "98a47835-d04c-426c-82e6-698d33e69baa"
      },
      "execution_count": null,
      "outputs": [
        {
          "output_type": "stream",
          "name": "stdout",
          "text": [
            "Count is 1\n",
            "Count is 2\n",
            "Count is 3\n",
            "Count is 4\n",
            "Count is 5\n"
          ]
        }
      ]
    },
    {
      "cell_type": "code",
      "source": [
        "# Example 47\n",
        "# simple countdown timer\n",
        "\n",
        "timer = 10\n",
        "\n",
        "while timer > 0:\n",
        "  print(f\"Time remaining: {timer} seconds\")\n",
        "  timer -= 1\n",
        "print(\"Welcome to 2026!\")"
      ],
      "metadata": {
        "colab": {
          "base_uri": "https://localhost:8080/"
        },
        "id": "_qnjgF8Zm_qk",
        "outputId": "19a3b79a-ff1e-4942-a773-d2dd99e27c4f"
      },
      "execution_count": null,
      "outputs": [
        {
          "output_type": "stream",
          "name": "stdout",
          "text": [
            "Time remaining: 10 seconds\n",
            "Time remaining: 9 seconds\n",
            "Time remaining: 8 seconds\n",
            "Time remaining: 7 seconds\n",
            "Time remaining: 6 seconds\n",
            "Time remaining: 5 seconds\n",
            "Time remaining: 4 seconds\n",
            "Time remaining: 3 seconds\n",
            "Time remaining: 2 seconds\n",
            "Time remaining: 1 seconds\n",
            "Welcome to 2026!\n"
          ]
        }
      ]
    },
    {
      "cell_type": "markdown",
      "source": [
        "### Break and Continue"
      ],
      "metadata": {
        "id": "ryZiWKBlpIiS"
      }
    },
    {
      "cell_type": "code",
      "source": [
        "# break: Exit the loop prematurely\n",
        "# stop the loop when a condition is met\n",
        "# Example 48\n",
        "\n",
        "for i in range (10):\n",
        "  if i == 5:\n",
        "    print (\"Stopping the loop!\")\n",
        "    break\n",
        "  print (i)"
      ],
      "metadata": {
        "colab": {
          "base_uri": "https://localhost:8080/"
        },
        "id": "dnZaK__xpK9y",
        "outputId": "918f31cc-067c-47ea-88b0-32b90235cfb9"
      },
      "execution_count": null,
      "outputs": [
        {
          "output_type": "stream",
          "name": "stdout",
          "text": [
            "0\n",
            "1\n",
            "2\n",
            "3\n",
            "4\n",
            "Stopping the loop!\n"
          ]
        }
      ]
    },
    {
      "cell_type": "code",
      "source": [
        "# continue: skip the rest of the code for some current iteration\n",
        "# skip some iterations\n",
        "# Example 49\n",
        "\n",
        "for i in range (10):\n",
        "  if i % 2 == 0: # skip the even numbers\n",
        "    continue\n",
        "  print(i)"
      ],
      "metadata": {
        "colab": {
          "base_uri": "https://localhost:8080/"
        },
        "id": "yyLEyk3PqAJy",
        "outputId": "e7c64ad9-028e-4719-8d1e-78ff29a6bda0"
      },
      "execution_count": null,
      "outputs": [
        {
          "output_type": "stream",
          "name": "stdout",
          "text": [
            "1\n",
            "3\n",
            "5\n",
            "7\n",
            "9\n"
          ]
        }
      ]
    },
    {
      "cell_type": "code",
      "source": [
        "# we avoid repetition using loops\n",
        "# Example 50\n",
        "\n",
        "print(\"*\")\n",
        "print(\"**\")\n",
        "print(\"***\")\n",
        "print(\"****\")"
      ],
      "metadata": {
        "colab": {
          "base_uri": "https://localhost:8080/"
        },
        "id": "j4hsfQCQrfe5",
        "outputId": "81c26b7f-c41f-4f78-8c3b-2bf0c672e5cb"
      },
      "execution_count": null,
      "outputs": [
        {
          "output_type": "stream",
          "name": "stdout",
          "text": [
            "*\n",
            "**\n",
            "***\n",
            "****\n"
          ]
        }
      ]
    },
    {
      "cell_type": "code",
      "source": [
        "# use a loop to reprint the pattern\n",
        "# Example 51\n",
        "\n",
        "for i in range(1,6):\n",
        "  print(\"*\" * i)"
      ],
      "metadata": {
        "colab": {
          "base_uri": "https://localhost:8080/"
        },
        "id": "5oukYiUVr1Pw",
        "outputId": "3009d31b-c12d-44f4-e27b-69fd9bee9359"
      },
      "execution_count": null,
      "outputs": [
        {
          "output_type": "stream",
          "name": "stdout",
          "text": [
            "*\n",
            "**\n",
            "***\n",
            "****\n",
            "*****\n"
          ]
        }
      ]
    },
    {
      "cell_type": "code",
      "source": [
        "# Iterating over some list\n",
        "# Example 52\n",
        "\n",
        "names = [\"Sampa\",\"Namukolo\",\"Bupe\", \"Leah\",\"Zulu\"]\n",
        "\n",
        "for name in reversed(names):\n",
        "  print(f\"Hello {name}\")"
      ],
      "metadata": {
        "colab": {
          "base_uri": "https://localhost:8080/"
        },
        "id": "V50HDR7WsUb_",
        "outputId": "2832dad7-ca3c-40c7-c6e1-4a4a77269f11"
      },
      "execution_count": null,
      "outputs": [
        {
          "output_type": "stream",
          "name": "stdout",
          "text": [
            "Hello Zulu\n",
            "Hello Leah\n",
            "Hello Bupe\n",
            "Hello Namukolo\n",
            "Hello Sampa\n"
          ]
        }
      ]
    },
    {
      "cell_type": "code",
      "source": [
        "# Challenge 25\n",
        "# Problem: Print numbers from 1 to 20. For multiples of 3, print \"Fizz\";\n",
        "# for multiples of 5, print \"Buzz\"; for multiples of both, print \"FizzBuzz.\"\n",
        "for i in range(1,21):\n",
        "  if i % 3 == 0 and i % 5 == 0:\n",
        "    print(\"FizzBuzz\")\n",
        "  elif i % 3 == 0:\n",
        "    print(\"Fizz\")\n",
        "  elif i % 5 == 0:\n",
        "    print(\"Buzz\")"
      ],
      "metadata": {
        "id": "DnF-hMDptGny",
        "colab": {
          "base_uri": "https://localhost:8080/"
        },
        "outputId": "0f9f3645-cc58-49ee-a722-271fef774a90"
      },
      "execution_count": null,
      "outputs": [
        {
          "output_type": "stream",
          "name": "stdout",
          "text": [
            "Fizz\n",
            "Buzz\n",
            "Fizz\n",
            "Fizz\n",
            "Buzz\n",
            "Fizz\n",
            "FizzBuzz\n",
            "Fizz\n",
            "Buzz\n"
          ]
        }
      ]
    },
    {
      "cell_type": "code",
      "source": [
        "# Challenge 26\n",
        "# Password Validation\n",
        "# Problem: Prompt the user to enter a password. Allow up to 3 attempts before locking them out.\n",
        "\n",
        "# Define the correct password\n",
        "enter = input(\"Enter a password: \")\n",
        "correct_password = \"password123\"\n",
        "for i in range(3):\n",
        "  if enter == correct_password:\n",
        "    print(\"Access granted\")\n",
        "    break\n",
        "  else:\n",
        "    print(\"Access denied\")\n",
        "    enter = input(\"Enter a password: \")"
      ],
      "metadata": {
        "id": "PIDArXtXvRnc",
        "colab": {
          "base_uri": "https://localhost:8080/"
        },
        "outputId": "d90968a7-466a-47a9-a9ea-a19d865a7721"
      },
      "execution_count": null,
      "outputs": [
        {
          "name": "stdout",
          "output_type": "stream",
          "text": [
            "Enter a password: 123\n",
            "Access denied\n",
            "Enter a password: 125\n",
            "Access denied\n",
            "Enter a password: 145\n",
            "Access denied\n",
            "Enter a password: 145\n"
          ]
        }
      ]
    },
    {
      "cell_type": "code",
      "source": [
        "# Challenge 27\n",
        "# Summation: Find the sum of all even numbers between 1 and 100.\n",
        "# # Using a loop to sum even numbers\n"
      ],
      "metadata": {
        "id": "jXbqUwF_vgwC"
      },
      "execution_count": null,
      "outputs": []
    },
    {
      "cell_type": "markdown",
      "source": [
        "### Lists, Tuples, Dictionaries, Sets"
      ],
      "metadata": {
        "id": "KHj1fRvowVsn"
      }
    },
    {
      "cell_type": "code",
      "source": [
        "# Example 53\n",
        "# lists\n",
        "\n",
        "my_list = [1,2, 4, \"Epic\", float(45), False]\n",
        "print(my_list)"
      ],
      "metadata": {
        "colab": {
          "base_uri": "https://localhost:8080/"
        },
        "id": "pJ_SeFXlwhOE",
        "outputId": "6bd3ce8f-248e-4d6d-a438-24fc6742dbc1"
      },
      "execution_count": null,
      "outputs": [
        {
          "output_type": "stream",
          "name": "stdout",
          "text": [
            "[1, 2, 4, 'Epic', 45.0, False]\n"
          ]
        }
      ]
    },
    {
      "cell_type": "code",
      "source": [
        "# Example 54\n",
        "# retrieving an item in a list\n",
        "\n",
        "my_list[3]"
      ],
      "metadata": {
        "colab": {
          "base_uri": "https://localhost:8080/",
          "height": 35
        },
        "id": "i3zNA5_azzsx",
        "outputId": "8ca014da-1ea0-4755-c11b-b6ba8d478e4a"
      },
      "execution_count": null,
      "outputs": [
        {
          "output_type": "execute_result",
          "data": {
            "text/plain": [
              "'Epic'"
            ],
            "application/vnd.google.colaboratory.intrinsic+json": {
              "type": "string"
            }
          },
          "metadata": {},
          "execution_count": 20
        }
      ]
    },
    {
      "cell_type": "code",
      "source": [
        "# Example 55\n",
        "# add an item to a list\n",
        "\n",
        "my_list.append(\"Favorite Student\")\n",
        "print(my_list)"
      ],
      "metadata": {
        "colab": {
          "base_uri": "https://localhost:8080/"
        },
        "id": "64wI0xlX0Uw6",
        "outputId": "badd3433-7d79-450e-ec1d-a51c9633465d"
      },
      "execution_count": null,
      "outputs": [
        {
          "output_type": "stream",
          "name": "stdout",
          "text": [
            "[1, 2, 4, 'Epic', 45.0, False, 'Favorite Student']\n"
          ]
        }
      ]
    },
    {
      "cell_type": "code",
      "source": [
        "# Example 56\n",
        "# is it possible to join lists\n",
        "\n",
        "list1 = [\"Man Utd\", \"Fan\"]\n",
        "\n",
        "list_2 = my_list + list1\n",
        "print(list_2)"
      ],
      "metadata": {
        "colab": {
          "base_uri": "https://localhost:8080/"
        },
        "id": "dHYx93N40tMx",
        "outputId": "bea77d2d-d0a5-45d5-adf2-01949dc452e1"
      },
      "execution_count": null,
      "outputs": [
        {
          "output_type": "stream",
          "name": "stdout",
          "text": [
            "[1, 2, 4, 'Epic', 45.0, False, 'Favorite Student', 'Man Utd', 'Fan']\n"
          ]
        }
      ]
    },
    {
      "cell_type": "code",
      "source": [
        "# Example 57\n",
        "# we can use the extend function to combine two lists\n",
        "\n",
        "my_list.extend(list_2)\n",
        "print(my_list)"
      ],
      "metadata": {
        "colab": {
          "base_uri": "https://localhost:8080/"
        },
        "id": "WXRSKaNz1JXZ",
        "outputId": "8cf1412b-d4cd-4dad-d96e-3a08f44fb0ec"
      },
      "execution_count": null,
      "outputs": [
        {
          "output_type": "stream",
          "name": "stdout",
          "text": [
            "[1, 2, 4, 'Epic', 45.0, False, 'Favorite Student', 1, 2, 4, 'Epic', 45.0, False, 'Favorite Student', 'Man Utd', 'Fan']\n"
          ]
        }
      ]
    },
    {
      "cell_type": "code",
      "source": [
        "# Challenge 28\n",
        "# find out if we can remove items from a list\n",
        "my_list.remove(\"Epic\")\n",
        "print(my_list)"
      ],
      "metadata": {
        "id": "rZFHIvDq10Uw",
        "colab": {
          "base_uri": "https://localhost:8080/"
        },
        "outputId": "07f0f4f4-439e-4a64-a0ec-75985ac307b5"
      },
      "execution_count": null,
      "outputs": [
        {
          "output_type": "stream",
          "name": "stdout",
          "text": [
            "[1, 2, 4, 45.0, False, 'Favorite Student', 1, 2, 4, 'Epic', 45.0, False, 'Favorite Student', 'Man Utd', 'Fan']\n"
          ]
        }
      ]
    },
    {
      "cell_type": "code",
      "source": [
        "# Example 58\n",
        "# tuples\n",
        "my_tuple = (1,2,3,4,5)\n",
        "print(my_tuple)"
      ],
      "metadata": {
        "colab": {
          "base_uri": "https://localhost:8080/"
        },
        "id": "6d3RnU0m1pGp",
        "outputId": "3dbe9c9e-f151-4267-92c8-5649a35951d2"
      },
      "execution_count": null,
      "outputs": [
        {
          "output_type": "stream",
          "name": "stdout",
          "text": [
            "(1, 2, 3, 4, 5)\n"
          ]
        }
      ]
    },
    {
      "cell_type": "code",
      "source": [
        "# can we get a certain item from a tuple\n",
        "\n",
        "my_tuple[3]"
      ],
      "metadata": {
        "colab": {
          "base_uri": "https://localhost:8080/"
        },
        "id": "HZRfh0-52FnV",
        "outputId": "d68652ff-7382-4dc0-d9d0-99784bc3b547"
      },
      "execution_count": null,
      "outputs": [
        {
          "output_type": "execute_result",
          "data": {
            "text/plain": [
              "4"
            ]
          },
          "metadata": {},
          "execution_count": 26
        }
      ]
    },
    {
      "cell_type": "code",
      "source": [
        "# coordinates of a place\n",
        "coordinates = (-1.456784, 36.98765)\n",
        "red = (255, 0, 0) # rgb color coding\n",
        "green = (0, 255, 0)\n",
        "blue = (0,0,255)\n",
        "black = (0,0,0)"
      ],
      "metadata": {
        "id": "n59xgJ8I2UPh"
      },
      "execution_count": null,
      "outputs": []
    },
    {
      "cell_type": "code",
      "source": [
        "# dictionary\n",
        "# Example 59\n",
        "\n",
        "my_dict = { \"name\": \"Zulu\", \"age\":22}\n",
        "print(my_dict)"
      ],
      "metadata": {
        "colab": {
          "base_uri": "https://localhost:8080/"
        },
        "id": "nH9dY4tV3PAS",
        "outputId": "962c454d-83fe-412b-e517-88f677269369"
      },
      "execution_count": null,
      "outputs": [
        {
          "output_type": "stream",
          "name": "stdout",
          "text": [
            "{'name': 'Zulu', 'age': 22}\n"
          ]
        }
      ]
    },
    {
      "cell_type": "code",
      "source": [
        "# calling a variable from a dictionary\n",
        "my_dict[\"age\"]"
      ],
      "metadata": {
        "colab": {
          "base_uri": "https://localhost:8080/"
        },
        "id": "IEo-pUF-4IYo",
        "outputId": "c4ce57ac-a91d-4337-f9e0-f9a2aaeef38b"
      },
      "execution_count": null,
      "outputs": [
        {
          "output_type": "execute_result",
          "data": {
            "text/plain": [
              "22"
            ]
          },
          "metadata": {},
          "execution_count": 30
        }
      ]
    },
    {
      "cell_type": "code",
      "source": [
        "# Example 60\n",
        "# adding items to a dictionary\n",
        "\n",
        "my_dict[\"club\"] = \"Man Utd\"\n",
        "my_dict"
      ],
      "metadata": {
        "colab": {
          "base_uri": "https://localhost:8080/"
        },
        "id": "GcGywWLm4ZH4",
        "outputId": "88ea9578-36ab-4f90-d0a6-155324df8d0f"
      },
      "execution_count": null,
      "outputs": [
        {
          "output_type": "execute_result",
          "data": {
            "text/plain": [
              "{'name': 'Zulu', 'age': 22, 'club': 'Man Utd'}"
            ]
          },
          "metadata": {},
          "execution_count": 31
        }
      ]
    },
    {
      "cell_type": "code",
      "source": [
        "# Example 61\n",
        "# is it possible to add more than item in a variable\n",
        "\n",
        "my_dict2 = {\n",
        "    \"name\":[\"Zulu\",\"Bupe\", \"Sampa\", \"Namukolo\"],\n",
        "    \"age\": [22, 22, 16, 16],\n",
        "    \"club\": [\"Man Utd\", \"Man Utd\", \"Man Utd\", \"Arsenal\"],\n",
        "    \"position\": [\"fan\", \"midfielder\", \"striker\",\"striker\"]\n",
        "}\n",
        "\n",
        "my_dict2"
      ],
      "metadata": {
        "colab": {
          "base_uri": "https://localhost:8080/"
        },
        "id": "y0mkTmiy4yQo",
        "outputId": "9a9c05fd-9247-41ca-c4db-032d95893c64"
      },
      "execution_count": null,
      "outputs": [
        {
          "output_type": "execute_result",
          "data": {
            "text/plain": [
              "{'name': ['Zulu', 'Bupe', 'Sampa', 'Namukolo'],\n",
              " 'age': [22, 22, 16, 16],\n",
              " 'club': ['Man Utd', 'Man Utd', 'Man Utd', 'Arsenal'],\n",
              " 'position': ['fan', 'midfielder', 'striker', 'striker']}"
            ]
          },
          "metadata": {},
          "execution_count": 32
        }
      ]
    },
    {
      "cell_type": "code",
      "source": [
        "# Example 62\n",
        "# library called pandas\n",
        "# a library is a collection of functions that perform some\n",
        "# specific task\n",
        "\n",
        "import pandas as pd\n",
        "df = pd.DataFrame(my_dict2)\n",
        "df"
      ],
      "metadata": {
        "colab": {
          "base_uri": "https://localhost:8080/",
          "height": 175
        },
        "id": "eJTVrNtf6Ytm",
        "outputId": "f6075dba-a6a6-423d-87f3-3fa3e3a80dc6"
      },
      "execution_count": null,
      "outputs": [
        {
          "output_type": "execute_result",
          "data": {
            "text/plain": [
              "       name  age     club    position\n",
              "0      Zulu   22  Man Utd         fan\n",
              "1      Bupe   22  Man Utd  midfielder\n",
              "2     Sampa   16  Man Utd     striker\n",
              "3  Namukolo   16  Arsenal     striker"
            ],
            "text/html": [
              "\n",
              "  <div id=\"df-4e5323ec-cd17-422f-a82e-baf1cc7f3b62\" class=\"colab-df-container\">\n",
              "    <div>\n",
              "<style scoped>\n",
              "    .dataframe tbody tr th:only-of-type {\n",
              "        vertical-align: middle;\n",
              "    }\n",
              "\n",
              "    .dataframe tbody tr th {\n",
              "        vertical-align: top;\n",
              "    }\n",
              "\n",
              "    .dataframe thead th {\n",
              "        text-align: right;\n",
              "    }\n",
              "</style>\n",
              "<table border=\"1\" class=\"dataframe\">\n",
              "  <thead>\n",
              "    <tr style=\"text-align: right;\">\n",
              "      <th></th>\n",
              "      <th>name</th>\n",
              "      <th>age</th>\n",
              "      <th>club</th>\n",
              "      <th>position</th>\n",
              "    </tr>\n",
              "  </thead>\n",
              "  <tbody>\n",
              "    <tr>\n",
              "      <th>0</th>\n",
              "      <td>Zulu</td>\n",
              "      <td>22</td>\n",
              "      <td>Man Utd</td>\n",
              "      <td>fan</td>\n",
              "    </tr>\n",
              "    <tr>\n",
              "      <th>1</th>\n",
              "      <td>Bupe</td>\n",
              "      <td>22</td>\n",
              "      <td>Man Utd</td>\n",
              "      <td>midfielder</td>\n",
              "    </tr>\n",
              "    <tr>\n",
              "      <th>2</th>\n",
              "      <td>Sampa</td>\n",
              "      <td>16</td>\n",
              "      <td>Man Utd</td>\n",
              "      <td>striker</td>\n",
              "    </tr>\n",
              "    <tr>\n",
              "      <th>3</th>\n",
              "      <td>Namukolo</td>\n",
              "      <td>16</td>\n",
              "      <td>Arsenal</td>\n",
              "      <td>striker</td>\n",
              "    </tr>\n",
              "  </tbody>\n",
              "</table>\n",
              "</div>\n",
              "    <div class=\"colab-df-buttons\">\n",
              "\n",
              "  <div class=\"colab-df-container\">\n",
              "    <button class=\"colab-df-convert\" onclick=\"convertToInteractive('df-4e5323ec-cd17-422f-a82e-baf1cc7f3b62')\"\n",
              "            title=\"Convert this dataframe to an interactive table.\"\n",
              "            style=\"display:none;\">\n",
              "\n",
              "  <svg xmlns=\"http://www.w3.org/2000/svg\" height=\"24px\" viewBox=\"0 -960 960 960\">\n",
              "    <path d=\"M120-120v-720h720v720H120Zm60-500h600v-160H180v160Zm220 220h160v-160H400v160Zm0 220h160v-160H400v160ZM180-400h160v-160H180v160Zm440 0h160v-160H620v160ZM180-180h160v-160H180v160Zm440 0h160v-160H620v160Z\"/>\n",
              "  </svg>\n",
              "    </button>\n",
              "\n",
              "  <style>\n",
              "    .colab-df-container {\n",
              "      display:flex;\n",
              "      gap: 12px;\n",
              "    }\n",
              "\n",
              "    .colab-df-convert {\n",
              "      background-color: #E8F0FE;\n",
              "      border: none;\n",
              "      border-radius: 50%;\n",
              "      cursor: pointer;\n",
              "      display: none;\n",
              "      fill: #1967D2;\n",
              "      height: 32px;\n",
              "      padding: 0 0 0 0;\n",
              "      width: 32px;\n",
              "    }\n",
              "\n",
              "    .colab-df-convert:hover {\n",
              "      background-color: #E2EBFA;\n",
              "      box-shadow: 0px 1px 2px rgba(60, 64, 67, 0.3), 0px 1px 3px 1px rgba(60, 64, 67, 0.15);\n",
              "      fill: #174EA6;\n",
              "    }\n",
              "\n",
              "    .colab-df-buttons div {\n",
              "      margin-bottom: 4px;\n",
              "    }\n",
              "\n",
              "    [theme=dark] .colab-df-convert {\n",
              "      background-color: #3B4455;\n",
              "      fill: #D2E3FC;\n",
              "    }\n",
              "\n",
              "    [theme=dark] .colab-df-convert:hover {\n",
              "      background-color: #434B5C;\n",
              "      box-shadow: 0px 1px 3px 1px rgba(0, 0, 0, 0.15);\n",
              "      filter: drop-shadow(0px 1px 2px rgba(0, 0, 0, 0.3));\n",
              "      fill: #FFFFFF;\n",
              "    }\n",
              "  </style>\n",
              "\n",
              "    <script>\n",
              "      const buttonEl =\n",
              "        document.querySelector('#df-4e5323ec-cd17-422f-a82e-baf1cc7f3b62 button.colab-df-convert');\n",
              "      buttonEl.style.display =\n",
              "        google.colab.kernel.accessAllowed ? 'block' : 'none';\n",
              "\n",
              "      async function convertToInteractive(key) {\n",
              "        const element = document.querySelector('#df-4e5323ec-cd17-422f-a82e-baf1cc7f3b62');\n",
              "        const dataTable =\n",
              "          await google.colab.kernel.invokeFunction('convertToInteractive',\n",
              "                                                    [key], {});\n",
              "        if (!dataTable) return;\n",
              "\n",
              "        const docLinkHtml = 'Like what you see? Visit the ' +\n",
              "          '<a target=\"_blank\" href=https://colab.research.google.com/notebooks/data_table.ipynb>data table notebook</a>'\n",
              "          + ' to learn more about interactive tables.';\n",
              "        element.innerHTML = '';\n",
              "        dataTable['output_type'] = 'display_data';\n",
              "        await google.colab.output.renderOutput(dataTable, element);\n",
              "        const docLink = document.createElement('div');\n",
              "        docLink.innerHTML = docLinkHtml;\n",
              "        element.appendChild(docLink);\n",
              "      }\n",
              "    </script>\n",
              "  </div>\n",
              "\n",
              "\n",
              "    <div id=\"df-cfb72374-31fe-45aa-b78a-3d8ba2ef747d\">\n",
              "      <button class=\"colab-df-quickchart\" onclick=\"quickchart('df-cfb72374-31fe-45aa-b78a-3d8ba2ef747d')\"\n",
              "                title=\"Suggest charts\"\n",
              "                style=\"display:none;\">\n",
              "\n",
              "<svg xmlns=\"http://www.w3.org/2000/svg\" height=\"24px\"viewBox=\"0 0 24 24\"\n",
              "     width=\"24px\">\n",
              "    <g>\n",
              "        <path d=\"M19 3H5c-1.1 0-2 .9-2 2v14c0 1.1.9 2 2 2h14c1.1 0 2-.9 2-2V5c0-1.1-.9-2-2-2zM9 17H7v-7h2v7zm4 0h-2V7h2v10zm4 0h-2v-4h2v4z\"/>\n",
              "    </g>\n",
              "</svg>\n",
              "      </button>\n",
              "\n",
              "<style>\n",
              "  .colab-df-quickchart {\n",
              "      --bg-color: #E8F0FE;\n",
              "      --fill-color: #1967D2;\n",
              "      --hover-bg-color: #E2EBFA;\n",
              "      --hover-fill-color: #174EA6;\n",
              "      --disabled-fill-color: #AAA;\n",
              "      --disabled-bg-color: #DDD;\n",
              "  }\n",
              "\n",
              "  [theme=dark] .colab-df-quickchart {\n",
              "      --bg-color: #3B4455;\n",
              "      --fill-color: #D2E3FC;\n",
              "      --hover-bg-color: #434B5C;\n",
              "      --hover-fill-color: #FFFFFF;\n",
              "      --disabled-bg-color: #3B4455;\n",
              "      --disabled-fill-color: #666;\n",
              "  }\n",
              "\n",
              "  .colab-df-quickchart {\n",
              "    background-color: var(--bg-color);\n",
              "    border: none;\n",
              "    border-radius: 50%;\n",
              "    cursor: pointer;\n",
              "    display: none;\n",
              "    fill: var(--fill-color);\n",
              "    height: 32px;\n",
              "    padding: 0;\n",
              "    width: 32px;\n",
              "  }\n",
              "\n",
              "  .colab-df-quickchart:hover {\n",
              "    background-color: var(--hover-bg-color);\n",
              "    box-shadow: 0 1px 2px rgba(60, 64, 67, 0.3), 0 1px 3px 1px rgba(60, 64, 67, 0.15);\n",
              "    fill: var(--button-hover-fill-color);\n",
              "  }\n",
              "\n",
              "  .colab-df-quickchart-complete:disabled,\n",
              "  .colab-df-quickchart-complete:disabled:hover {\n",
              "    background-color: var(--disabled-bg-color);\n",
              "    fill: var(--disabled-fill-color);\n",
              "    box-shadow: none;\n",
              "  }\n",
              "\n",
              "  .colab-df-spinner {\n",
              "    border: 2px solid var(--fill-color);\n",
              "    border-color: transparent;\n",
              "    border-bottom-color: var(--fill-color);\n",
              "    animation:\n",
              "      spin 1s steps(1) infinite;\n",
              "  }\n",
              "\n",
              "  @keyframes spin {\n",
              "    0% {\n",
              "      border-color: transparent;\n",
              "      border-bottom-color: var(--fill-color);\n",
              "      border-left-color: var(--fill-color);\n",
              "    }\n",
              "    20% {\n",
              "      border-color: transparent;\n",
              "      border-left-color: var(--fill-color);\n",
              "      border-top-color: var(--fill-color);\n",
              "    }\n",
              "    30% {\n",
              "      border-color: transparent;\n",
              "      border-left-color: var(--fill-color);\n",
              "      border-top-color: var(--fill-color);\n",
              "      border-right-color: var(--fill-color);\n",
              "    }\n",
              "    40% {\n",
              "      border-color: transparent;\n",
              "      border-right-color: var(--fill-color);\n",
              "      border-top-color: var(--fill-color);\n",
              "    }\n",
              "    60% {\n",
              "      border-color: transparent;\n",
              "      border-right-color: var(--fill-color);\n",
              "    }\n",
              "    80% {\n",
              "      border-color: transparent;\n",
              "      border-right-color: var(--fill-color);\n",
              "      border-bottom-color: var(--fill-color);\n",
              "    }\n",
              "    90% {\n",
              "      border-color: transparent;\n",
              "      border-bottom-color: var(--fill-color);\n",
              "    }\n",
              "  }\n",
              "</style>\n",
              "\n",
              "      <script>\n",
              "        async function quickchart(key) {\n",
              "          const quickchartButtonEl =\n",
              "            document.querySelector('#' + key + ' button');\n",
              "          quickchartButtonEl.disabled = true;  // To prevent multiple clicks.\n",
              "          quickchartButtonEl.classList.add('colab-df-spinner');\n",
              "          try {\n",
              "            const charts = await google.colab.kernel.invokeFunction(\n",
              "                'suggestCharts', [key], {});\n",
              "          } catch (error) {\n",
              "            console.error('Error during call to suggestCharts:', error);\n",
              "          }\n",
              "          quickchartButtonEl.classList.remove('colab-df-spinner');\n",
              "          quickchartButtonEl.classList.add('colab-df-quickchart-complete');\n",
              "        }\n",
              "        (() => {\n",
              "          let quickchartButtonEl =\n",
              "            document.querySelector('#df-cfb72374-31fe-45aa-b78a-3d8ba2ef747d button');\n",
              "          quickchartButtonEl.style.display =\n",
              "            google.colab.kernel.accessAllowed ? 'block' : 'none';\n",
              "        })();\n",
              "      </script>\n",
              "    </div>\n",
              "\n",
              "  <div id=\"id_2e174a86-2981-405c-9ce3-01afd4295ed7\">\n",
              "    <style>\n",
              "      .colab-df-generate {\n",
              "        background-color: #E8F0FE;\n",
              "        border: none;\n",
              "        border-radius: 50%;\n",
              "        cursor: pointer;\n",
              "        display: none;\n",
              "        fill: #1967D2;\n",
              "        height: 32px;\n",
              "        padding: 0 0 0 0;\n",
              "        width: 32px;\n",
              "      }\n",
              "\n",
              "      .colab-df-generate:hover {\n",
              "        background-color: #E2EBFA;\n",
              "        box-shadow: 0px 1px 2px rgba(60, 64, 67, 0.3), 0px 1px 3px 1px rgba(60, 64, 67, 0.15);\n",
              "        fill: #174EA6;\n",
              "      }\n",
              "\n",
              "      [theme=dark] .colab-df-generate {\n",
              "        background-color: #3B4455;\n",
              "        fill: #D2E3FC;\n",
              "      }\n",
              "\n",
              "      [theme=dark] .colab-df-generate:hover {\n",
              "        background-color: #434B5C;\n",
              "        box-shadow: 0px 1px 3px 1px rgba(0, 0, 0, 0.15);\n",
              "        filter: drop-shadow(0px 1px 2px rgba(0, 0, 0, 0.3));\n",
              "        fill: #FFFFFF;\n",
              "      }\n",
              "    </style>\n",
              "    <button class=\"colab-df-generate\" onclick=\"generateWithVariable('df')\"\n",
              "            title=\"Generate code using this dataframe.\"\n",
              "            style=\"display:none;\">\n",
              "\n",
              "  <svg xmlns=\"http://www.w3.org/2000/svg\" height=\"24px\"viewBox=\"0 0 24 24\"\n",
              "       width=\"24px\">\n",
              "    <path d=\"M7,19H8.4L18.45,9,17,7.55,7,17.6ZM5,21V16.75L18.45,3.32a2,2,0,0,1,2.83,0l1.4,1.43a1.91,1.91,0,0,1,.58,1.4,1.91,1.91,0,0,1-.58,1.4L9.25,21ZM18.45,9,17,7.55Zm-12,3A5.31,5.31,0,0,0,4.9,8.1,5.31,5.31,0,0,0,1,6.5,5.31,5.31,0,0,0,4.9,4.9,5.31,5.31,0,0,0,6.5,1,5.31,5.31,0,0,0,8.1,4.9,5.31,5.31,0,0,0,12,6.5,5.46,5.46,0,0,0,6.5,12Z\"/>\n",
              "  </svg>\n",
              "    </button>\n",
              "    <script>\n",
              "      (() => {\n",
              "      const buttonEl =\n",
              "        document.querySelector('#id_2e174a86-2981-405c-9ce3-01afd4295ed7 button.colab-df-generate');\n",
              "      buttonEl.style.display =\n",
              "        google.colab.kernel.accessAllowed ? 'block' : 'none';\n",
              "\n",
              "      buttonEl.onclick = () => {\n",
              "        google.colab.notebook.generateWithVariable('df');\n",
              "      }\n",
              "      })();\n",
              "    </script>\n",
              "  </div>\n",
              "\n",
              "    </div>\n",
              "  </div>\n"
            ],
            "application/vnd.google.colaboratory.intrinsic+json": {
              "type": "dataframe",
              "variable_name": "df",
              "summary": "{\n  \"name\": \"df\",\n  \"rows\": 4,\n  \"fields\": [\n    {\n      \"column\": \"name\",\n      \"properties\": {\n        \"dtype\": \"string\",\n        \"num_unique_values\": 4,\n        \"samples\": [\n          \"Bupe\",\n          \"Namukolo\",\n          \"Zulu\"\n        ],\n        \"semantic_type\": \"\",\n        \"description\": \"\"\n      }\n    },\n    {\n      \"column\": \"age\",\n      \"properties\": {\n        \"dtype\": \"number\",\n        \"std\": 3,\n        \"min\": 16,\n        \"max\": 22,\n        \"num_unique_values\": 2,\n        \"samples\": [\n          16,\n          22\n        ],\n        \"semantic_type\": \"\",\n        \"description\": \"\"\n      }\n    },\n    {\n      \"column\": \"club\",\n      \"properties\": {\n        \"dtype\": \"string\",\n        \"num_unique_values\": 2,\n        \"samples\": [\n          \"Arsenal\",\n          \"Man Utd\"\n        ],\n        \"semantic_type\": \"\",\n        \"description\": \"\"\n      }\n    },\n    {\n      \"column\": \"position\",\n      \"properties\": {\n        \"dtype\": \"string\",\n        \"num_unique_values\": 3,\n        \"samples\": [\n          \"fan\",\n          \"midfielder\"\n        ],\n        \"semantic_type\": \"\",\n        \"description\": \"\"\n      }\n    }\n  ]\n}"
            }
          },
          "metadata": {},
          "execution_count": 33
        }
      ]
    },
    {
      "cell_type": "code",
      "source": [
        "df[\"club\"].value_counts()"
      ],
      "metadata": {
        "colab": {
          "base_uri": "https://localhost:8080/",
          "height": 178
        },
        "id": "HO2DK0_P7d-a",
        "outputId": "98297b9c-0b2c-43fe-c271-8048e57aadab"
      },
      "execution_count": null,
      "outputs": [
        {
          "output_type": "execute_result",
          "data": {
            "text/plain": [
              "club\n",
              "Man Utd    3\n",
              "Arsenal    1\n",
              "Name: count, dtype: int64"
            ],
            "text/html": [
              "<div>\n",
              "<style scoped>\n",
              "    .dataframe tbody tr th:only-of-type {\n",
              "        vertical-align: middle;\n",
              "    }\n",
              "\n",
              "    .dataframe tbody tr th {\n",
              "        vertical-align: top;\n",
              "    }\n",
              "\n",
              "    .dataframe thead th {\n",
              "        text-align: right;\n",
              "    }\n",
              "</style>\n",
              "<table border=\"1\" class=\"dataframe\">\n",
              "  <thead>\n",
              "    <tr style=\"text-align: right;\">\n",
              "      <th></th>\n",
              "      <th>count</th>\n",
              "    </tr>\n",
              "    <tr>\n",
              "      <th>club</th>\n",
              "      <th></th>\n",
              "    </tr>\n",
              "  </thead>\n",
              "  <tbody>\n",
              "    <tr>\n",
              "      <th>Man Utd</th>\n",
              "      <td>3</td>\n",
              "    </tr>\n",
              "    <tr>\n",
              "      <th>Arsenal</th>\n",
              "      <td>1</td>\n",
              "    </tr>\n",
              "  </tbody>\n",
              "</table>\n",
              "</div><br><label><b>dtype:</b> int64</label>"
            ]
          },
          "metadata": {},
          "execution_count": 34
        }
      ]
    },
    {
      "cell_type": "code",
      "source": [
        "# Challenge 29\n",
        "# using a dictionary as a value of a dictionary\n",
        "# create a dictionary called products\n",
        "# add 2 dictionaries one called Laptop and the other called mouse\n",
        "# to the dictionary products\n",
        "# For each of the products assign price, the number in stock,\n",
        "# and the category (Electronics, Accessories)\n",
        "\n",
        "products = {\n",
        "    \"Laptop\": {\n",
        "        \"price\": [47000,50000],\n",
        "        \"stock\": 350,\n",
        "        \"category\": \"Electronics\"\n",
        "    },\n",
        "\n",
        "    \"Mouse\": {\n",
        "        \"price\": 5000,\n",
        "        \"stock\": 500,\n",
        "        \"category\": \"Accessories\"\n",
        "    }\n",
        "}\n",
        "\n",
        "print(f\"Laptop details: {products['Laptop']}\")\n",
        "print(f\"Mice details: {products['Mouse']}\")"
      ],
      "metadata": {
        "colab": {
          "base_uri": "https://localhost:8080/"
        },
        "id": "XivHqFHA7zTm",
        "outputId": "ef9d283d-a738-460e-9681-e1cebdc30abc"
      },
      "execution_count": null,
      "outputs": [
        {
          "output_type": "stream",
          "name": "stdout",
          "text": [
            "Laptop details: {'price': [47000, 50000], 'stock': 350, 'category': 'Electronics'}\n",
            "Mice details: {'price': 5000, 'stock': 500, 'category': 'Accessories'}\n"
          ]
        }
      ]
    },
    {
      "cell_type": "code",
      "source": [
        "# Example 63\n",
        "# converting the products dictionary into a data frame\n",
        "# tensors\n",
        "\n",
        "df = pd.DataFrame(products)\n",
        "df"
      ],
      "metadata": {
        "colab": {
          "base_uri": "https://localhost:8080/",
          "height": 144
        },
        "id": "-BXYF6SBDgoP",
        "outputId": "2c80e7de-163f-4ca0-d704-8e287bb99a85"
      },
      "execution_count": null,
      "outputs": [
        {
          "output_type": "execute_result",
          "data": {
            "text/plain": [
              "                  Laptop        Mouse\n",
              "price     [47000, 50000]         5000\n",
              "stock                350          500\n",
              "category     Electronics  Accessories"
            ],
            "text/html": [
              "\n",
              "  <div id=\"df-3ca1f376-4de0-455d-bcb2-b0738e342d17\" class=\"colab-df-container\">\n",
              "    <div>\n",
              "<style scoped>\n",
              "    .dataframe tbody tr th:only-of-type {\n",
              "        vertical-align: middle;\n",
              "    }\n",
              "\n",
              "    .dataframe tbody tr th {\n",
              "        vertical-align: top;\n",
              "    }\n",
              "\n",
              "    .dataframe thead th {\n",
              "        text-align: right;\n",
              "    }\n",
              "</style>\n",
              "<table border=\"1\" class=\"dataframe\">\n",
              "  <thead>\n",
              "    <tr style=\"text-align: right;\">\n",
              "      <th></th>\n",
              "      <th>Laptop</th>\n",
              "      <th>Mouse</th>\n",
              "    </tr>\n",
              "  </thead>\n",
              "  <tbody>\n",
              "    <tr>\n",
              "      <th>price</th>\n",
              "      <td>[47000, 50000]</td>\n",
              "      <td>5000</td>\n",
              "    </tr>\n",
              "    <tr>\n",
              "      <th>stock</th>\n",
              "      <td>350</td>\n",
              "      <td>500</td>\n",
              "    </tr>\n",
              "    <tr>\n",
              "      <th>category</th>\n",
              "      <td>Electronics</td>\n",
              "      <td>Accessories</td>\n",
              "    </tr>\n",
              "  </tbody>\n",
              "</table>\n",
              "</div>\n",
              "    <div class=\"colab-df-buttons\">\n",
              "\n",
              "  <div class=\"colab-df-container\">\n",
              "    <button class=\"colab-df-convert\" onclick=\"convertToInteractive('df-3ca1f376-4de0-455d-bcb2-b0738e342d17')\"\n",
              "            title=\"Convert this dataframe to an interactive table.\"\n",
              "            style=\"display:none;\">\n",
              "\n",
              "  <svg xmlns=\"http://www.w3.org/2000/svg\" height=\"24px\" viewBox=\"0 -960 960 960\">\n",
              "    <path d=\"M120-120v-720h720v720H120Zm60-500h600v-160H180v160Zm220 220h160v-160H400v160Zm0 220h160v-160H400v160ZM180-400h160v-160H180v160Zm440 0h160v-160H620v160ZM180-180h160v-160H180v160Zm440 0h160v-160H620v160Z\"/>\n",
              "  </svg>\n",
              "    </button>\n",
              "\n",
              "  <style>\n",
              "    .colab-df-container {\n",
              "      display:flex;\n",
              "      gap: 12px;\n",
              "    }\n",
              "\n",
              "    .colab-df-convert {\n",
              "      background-color: #E8F0FE;\n",
              "      border: none;\n",
              "      border-radius: 50%;\n",
              "      cursor: pointer;\n",
              "      display: none;\n",
              "      fill: #1967D2;\n",
              "      height: 32px;\n",
              "      padding: 0 0 0 0;\n",
              "      width: 32px;\n",
              "    }\n",
              "\n",
              "    .colab-df-convert:hover {\n",
              "      background-color: #E2EBFA;\n",
              "      box-shadow: 0px 1px 2px rgba(60, 64, 67, 0.3), 0px 1px 3px 1px rgba(60, 64, 67, 0.15);\n",
              "      fill: #174EA6;\n",
              "    }\n",
              "\n",
              "    .colab-df-buttons div {\n",
              "      margin-bottom: 4px;\n",
              "    }\n",
              "\n",
              "    [theme=dark] .colab-df-convert {\n",
              "      background-color: #3B4455;\n",
              "      fill: #D2E3FC;\n",
              "    }\n",
              "\n",
              "    [theme=dark] .colab-df-convert:hover {\n",
              "      background-color: #434B5C;\n",
              "      box-shadow: 0px 1px 3px 1px rgba(0, 0, 0, 0.15);\n",
              "      filter: drop-shadow(0px 1px 2px rgba(0, 0, 0, 0.3));\n",
              "      fill: #FFFFFF;\n",
              "    }\n",
              "  </style>\n",
              "\n",
              "    <script>\n",
              "      const buttonEl =\n",
              "        document.querySelector('#df-3ca1f376-4de0-455d-bcb2-b0738e342d17 button.colab-df-convert');\n",
              "      buttonEl.style.display =\n",
              "        google.colab.kernel.accessAllowed ? 'block' : 'none';\n",
              "\n",
              "      async function convertToInteractive(key) {\n",
              "        const element = document.querySelector('#df-3ca1f376-4de0-455d-bcb2-b0738e342d17');\n",
              "        const dataTable =\n",
              "          await google.colab.kernel.invokeFunction('convertToInteractive',\n",
              "                                                    [key], {});\n",
              "        if (!dataTable) return;\n",
              "\n",
              "        const docLinkHtml = 'Like what you see? Visit the ' +\n",
              "          '<a target=\"_blank\" href=https://colab.research.google.com/notebooks/data_table.ipynb>data table notebook</a>'\n",
              "          + ' to learn more about interactive tables.';\n",
              "        element.innerHTML = '';\n",
              "        dataTable['output_type'] = 'display_data';\n",
              "        await google.colab.output.renderOutput(dataTable, element);\n",
              "        const docLink = document.createElement('div');\n",
              "        docLink.innerHTML = docLinkHtml;\n",
              "        element.appendChild(docLink);\n",
              "      }\n",
              "    </script>\n",
              "  </div>\n",
              "\n",
              "\n",
              "    <div id=\"df-f7f11af0-5483-4a88-b82d-199719a295c7\">\n",
              "      <button class=\"colab-df-quickchart\" onclick=\"quickchart('df-f7f11af0-5483-4a88-b82d-199719a295c7')\"\n",
              "                title=\"Suggest charts\"\n",
              "                style=\"display:none;\">\n",
              "\n",
              "<svg xmlns=\"http://www.w3.org/2000/svg\" height=\"24px\"viewBox=\"0 0 24 24\"\n",
              "     width=\"24px\">\n",
              "    <g>\n",
              "        <path d=\"M19 3H5c-1.1 0-2 .9-2 2v14c0 1.1.9 2 2 2h14c1.1 0 2-.9 2-2V5c0-1.1-.9-2-2-2zM9 17H7v-7h2v7zm4 0h-2V7h2v10zm4 0h-2v-4h2v4z\"/>\n",
              "    </g>\n",
              "</svg>\n",
              "      </button>\n",
              "\n",
              "<style>\n",
              "  .colab-df-quickchart {\n",
              "      --bg-color: #E8F0FE;\n",
              "      --fill-color: #1967D2;\n",
              "      --hover-bg-color: #E2EBFA;\n",
              "      --hover-fill-color: #174EA6;\n",
              "      --disabled-fill-color: #AAA;\n",
              "      --disabled-bg-color: #DDD;\n",
              "  }\n",
              "\n",
              "  [theme=dark] .colab-df-quickchart {\n",
              "      --bg-color: #3B4455;\n",
              "      --fill-color: #D2E3FC;\n",
              "      --hover-bg-color: #434B5C;\n",
              "      --hover-fill-color: #FFFFFF;\n",
              "      --disabled-bg-color: #3B4455;\n",
              "      --disabled-fill-color: #666;\n",
              "  }\n",
              "\n",
              "  .colab-df-quickchart {\n",
              "    background-color: var(--bg-color);\n",
              "    border: none;\n",
              "    border-radius: 50%;\n",
              "    cursor: pointer;\n",
              "    display: none;\n",
              "    fill: var(--fill-color);\n",
              "    height: 32px;\n",
              "    padding: 0;\n",
              "    width: 32px;\n",
              "  }\n",
              "\n",
              "  .colab-df-quickchart:hover {\n",
              "    background-color: var(--hover-bg-color);\n",
              "    box-shadow: 0 1px 2px rgba(60, 64, 67, 0.3), 0 1px 3px 1px rgba(60, 64, 67, 0.15);\n",
              "    fill: var(--button-hover-fill-color);\n",
              "  }\n",
              "\n",
              "  .colab-df-quickchart-complete:disabled,\n",
              "  .colab-df-quickchart-complete:disabled:hover {\n",
              "    background-color: var(--disabled-bg-color);\n",
              "    fill: var(--disabled-fill-color);\n",
              "    box-shadow: none;\n",
              "  }\n",
              "\n",
              "  .colab-df-spinner {\n",
              "    border: 2px solid var(--fill-color);\n",
              "    border-color: transparent;\n",
              "    border-bottom-color: var(--fill-color);\n",
              "    animation:\n",
              "      spin 1s steps(1) infinite;\n",
              "  }\n",
              "\n",
              "  @keyframes spin {\n",
              "    0% {\n",
              "      border-color: transparent;\n",
              "      border-bottom-color: var(--fill-color);\n",
              "      border-left-color: var(--fill-color);\n",
              "    }\n",
              "    20% {\n",
              "      border-color: transparent;\n",
              "      border-left-color: var(--fill-color);\n",
              "      border-top-color: var(--fill-color);\n",
              "    }\n",
              "    30% {\n",
              "      border-color: transparent;\n",
              "      border-left-color: var(--fill-color);\n",
              "      border-top-color: var(--fill-color);\n",
              "      border-right-color: var(--fill-color);\n",
              "    }\n",
              "    40% {\n",
              "      border-color: transparent;\n",
              "      border-right-color: var(--fill-color);\n",
              "      border-top-color: var(--fill-color);\n",
              "    }\n",
              "    60% {\n",
              "      border-color: transparent;\n",
              "      border-right-color: var(--fill-color);\n",
              "    }\n",
              "    80% {\n",
              "      border-color: transparent;\n",
              "      border-right-color: var(--fill-color);\n",
              "      border-bottom-color: var(--fill-color);\n",
              "    }\n",
              "    90% {\n",
              "      border-color: transparent;\n",
              "      border-bottom-color: var(--fill-color);\n",
              "    }\n",
              "  }\n",
              "</style>\n",
              "\n",
              "      <script>\n",
              "        async function quickchart(key) {\n",
              "          const quickchartButtonEl =\n",
              "            document.querySelector('#' + key + ' button');\n",
              "          quickchartButtonEl.disabled = true;  // To prevent multiple clicks.\n",
              "          quickchartButtonEl.classList.add('colab-df-spinner');\n",
              "          try {\n",
              "            const charts = await google.colab.kernel.invokeFunction(\n",
              "                'suggestCharts', [key], {});\n",
              "          } catch (error) {\n",
              "            console.error('Error during call to suggestCharts:', error);\n",
              "          }\n",
              "          quickchartButtonEl.classList.remove('colab-df-spinner');\n",
              "          quickchartButtonEl.classList.add('colab-df-quickchart-complete');\n",
              "        }\n",
              "        (() => {\n",
              "          let quickchartButtonEl =\n",
              "            document.querySelector('#df-f7f11af0-5483-4a88-b82d-199719a295c7 button');\n",
              "          quickchartButtonEl.style.display =\n",
              "            google.colab.kernel.accessAllowed ? 'block' : 'none';\n",
              "        })();\n",
              "      </script>\n",
              "    </div>\n",
              "\n",
              "  <div id=\"id_7ae9a572-9ae8-4dee-af33-332ce6c86735\">\n",
              "    <style>\n",
              "      .colab-df-generate {\n",
              "        background-color: #E8F0FE;\n",
              "        border: none;\n",
              "        border-radius: 50%;\n",
              "        cursor: pointer;\n",
              "        display: none;\n",
              "        fill: #1967D2;\n",
              "        height: 32px;\n",
              "        padding: 0 0 0 0;\n",
              "        width: 32px;\n",
              "      }\n",
              "\n",
              "      .colab-df-generate:hover {\n",
              "        background-color: #E2EBFA;\n",
              "        box-shadow: 0px 1px 2px rgba(60, 64, 67, 0.3), 0px 1px 3px 1px rgba(60, 64, 67, 0.15);\n",
              "        fill: #174EA6;\n",
              "      }\n",
              "\n",
              "      [theme=dark] .colab-df-generate {\n",
              "        background-color: #3B4455;\n",
              "        fill: #D2E3FC;\n",
              "      }\n",
              "\n",
              "      [theme=dark] .colab-df-generate:hover {\n",
              "        background-color: #434B5C;\n",
              "        box-shadow: 0px 1px 3px 1px rgba(0, 0, 0, 0.15);\n",
              "        filter: drop-shadow(0px 1px 2px rgba(0, 0, 0, 0.3));\n",
              "        fill: #FFFFFF;\n",
              "      }\n",
              "    </style>\n",
              "    <button class=\"colab-df-generate\" onclick=\"generateWithVariable('df')\"\n",
              "            title=\"Generate code using this dataframe.\"\n",
              "            style=\"display:none;\">\n",
              "\n",
              "  <svg xmlns=\"http://www.w3.org/2000/svg\" height=\"24px\"viewBox=\"0 0 24 24\"\n",
              "       width=\"24px\">\n",
              "    <path d=\"M7,19H8.4L18.45,9,17,7.55,7,17.6ZM5,21V16.75L18.45,3.32a2,2,0,0,1,2.83,0l1.4,1.43a1.91,1.91,0,0,1,.58,1.4,1.91,1.91,0,0,1-.58,1.4L9.25,21ZM18.45,9,17,7.55Zm-12,3A5.31,5.31,0,0,0,4.9,8.1,5.31,5.31,0,0,0,1,6.5,5.31,5.31,0,0,0,4.9,4.9,5.31,5.31,0,0,0,6.5,1,5.31,5.31,0,0,0,8.1,4.9,5.31,5.31,0,0,0,12,6.5,5.46,5.46,0,0,0,6.5,12Z\"/>\n",
              "  </svg>\n",
              "    </button>\n",
              "    <script>\n",
              "      (() => {\n",
              "      const buttonEl =\n",
              "        document.querySelector('#id_7ae9a572-9ae8-4dee-af33-332ce6c86735 button.colab-df-generate');\n",
              "      buttonEl.style.display =\n",
              "        google.colab.kernel.accessAllowed ? 'block' : 'none';\n",
              "\n",
              "      buttonEl.onclick = () => {\n",
              "        google.colab.notebook.generateWithVariable('df');\n",
              "      }\n",
              "      })();\n",
              "    </script>\n",
              "  </div>\n",
              "\n",
              "    </div>\n",
              "  </div>\n"
            ],
            "application/vnd.google.colaboratory.intrinsic+json": {
              "type": "dataframe",
              "variable_name": "df",
              "summary": "{\n  \"name\": \"df\",\n  \"rows\": 3,\n  \"fields\": [\n    {\n      \"column\": \"Laptop\",\n      \"properties\": {\n        \"dtype\": \"object\",\n        \"semantic_type\": \"\",\n        \"description\": \"\"\n      }\n    },\n    {\n      \"column\": \"Mouse\",\n      \"properties\": {\n        \"dtype\": \"string\",\n        \"num_unique_values\": 3,\n        \"samples\": [\n          5000,\n          500,\n          \"Accessories\"\n        ],\n        \"semantic_type\": \"\",\n        \"description\": \"\"\n      }\n    }\n  ]\n}"
            }
          },
          "metadata": {},
          "execution_count": 36
        }
      ]
    },
    {
      "cell_type": "code",
      "source": [
        "# sets\n",
        "# a set as a collection of elements\n",
        "# ordered, not expect any repitition\n",
        "\n",
        "my_set = {1,2,3,4,5}\n",
        "print(my_set)"
      ],
      "metadata": {
        "colab": {
          "base_uri": "https://localhost:8080/"
        },
        "id": "VT7dE0V4F4nP",
        "outputId": "d1ed4795-b4ce-46ac-a938-5ebfef934a56"
      },
      "execution_count": null,
      "outputs": [
        {
          "output_type": "stream",
          "name": "stdout",
          "text": [
            "{1, 2, 3, 4, 5}\n"
          ]
        }
      ]
    },
    {
      "cell_type": "code",
      "source": [
        "list_numbers = [1,2,3,4,44,5,666,6,7,8,99999,10,10,10]\n",
        "print(f\"The list: {list_numbers}\")\n",
        "\n",
        "list_set = set(list_numbers)\n",
        "print(f\"The set: {list_set}\")"
      ],
      "metadata": {
        "colab": {
          "base_uri": "https://localhost:8080/"
        },
        "id": "SWkS8D-YGRzZ",
        "outputId": "1c287f7c-bd55-4cab-b5ba-ad615329ff2b"
      },
      "execution_count": null,
      "outputs": [
        {
          "output_type": "stream",
          "name": "stdout",
          "text": [
            "The list: [1, 2, 3, 4, 44, 5, 666, 6, 7, 8, 99999, 10, 10, 10]\n",
            "The set: {1, 2, 3, 4, 5, 6, 7, 8, 10, 44, 666, 99999}\n"
          ]
        }
      ]
    },
    {
      "cell_type": "markdown",
      "source": [
        "### Defining and Calling Functions"
      ],
      "metadata": {
        "id": "OjG5qru8HIH1"
      }
    },
    {
      "cell_type": "code",
      "source": [
        "# Challenge\n",
        "# functions are reusable blocks of code\n",
        "# we use functions for certain or specific tasks\n",
        "\n",
        "# write a function that adds two numbers\n",
        "\n",
        "\n",
        "def add_numbers(num1, num2):\n",
        "  num1 - int(input(\"Enter the first number: \"))\n",
        "  num2 - int(input(\"Enter the second number: \"))\n",
        "  sum = num1 + num2\n",
        "  return sum"
      ],
      "metadata": {
        "id": "a9GOcDoNHLwf"
      },
      "execution_count": null,
      "outputs": []
    },
    {
      "cell_type": "code",
      "source": [],
      "metadata": {
        "colab": {
          "base_uri": "https://localhost:8080/"
        },
        "id": "uf4B9_A2-_XC",
        "outputId": "2d976767-3083-4122-b29b-37c62d2e1085"
      },
      "execution_count": null,
      "outputs": [
        {
          "output_type": "execute_result",
          "data": {
            "text/plain": [
              "<function sum(iterable, /, start=0)>"
            ]
          },
          "metadata": {},
          "execution_count": 50
        }
      ]
    },
    {
      "cell_type": "code",
      "source": [
        "# Challenge\n",
        "# write a function that gets the average of a list of numbers\n",
        "\n",
        "def average(numbers):\n",
        "  total = sum(numbers)\n",
        "  average = total / len(numbers)\n",
        "  return average\n",
        "\n",
        "list23 = [14,26,78,42,45,63]\n",
        "av = average(list23)\n",
        "print(f\"the average is: {av}\")\n"
      ],
      "metadata": {
        "id": "ulUqi9ThIjDN",
        "colab": {
          "base_uri": "https://localhost:8080/"
        },
        "outputId": "d327c8f0-96af-4a50-8fc6-ef0c8a70a125"
      },
      "execution_count": null,
      "outputs": [
        {
          "output_type": "stream",
          "name": "stdout",
          "text": [
            "the average is: 44.666666666666664\n"
          ]
        }
      ]
    },
    {
      "cell_type": "code",
      "source": [
        "# Challenge\n",
        "# write a function that solves the quadratic equation\n",
        "# ax^2 + bx + c\n",
        "# x = (-b +- sqrt(b^2 - 4ac )) / 2a\n",
        "# library is a set/collection of functions that perform\n",
        "# tasks relating to a certain\n",
        "# the math library has functions that solve math problems\n",
        "\n",
        "import math\n",
        "\n",
        "def quadratic_equation(a,b,c):\n",
        "  # Calculate the discriminant\n",
        "  delta = (b**2) - (4*(a*c))\n",
        "\n",
        "  # Check if the discriminant is negative, zero or positive\n",
        "  if delta >= 0:\n",
        "    # Calculate the two possible solutions\n",
        "    x1 = (-b - math.sqrt(delta)) / (2*a)\n",
        "    x2 = (-b + math.sqrt(delta)) / (2*a)\n",
        "    return x1, x2\n",
        "  else:\n",
        "    return \"No real roots\"\n",
        "\n",
        "\n",
        "a = float(input(\"Enter a: \"))\n",
        "b = float(input(\"Enter b: \"))\n",
        "c = float(input(\"Enter c: \"))\n",
        "\n",
        "print(quadratic_equation(a, b, c))"
      ],
      "metadata": {
        "id": "q1-LjHe7IoCM",
        "colab": {
          "base_uri": "https://localhost:8080/"
        },
        "outputId": "91994c4e-ef7a-4d7d-84d1-4cc128b2c316"
      },
      "execution_count": null,
      "outputs": [
        {
          "output_type": "stream",
          "name": "stdout",
          "text": [
            "Enter a: 4\n",
            "Enter b: 8\n",
            "Enter c: 1\n",
            "(-1.8660254037844386, -0.1339745962155614)\n"
          ]
        }
      ]
    },
    {
      "cell_type": "code",
      "source": [
        "import math\n",
        "def solve_quadratic(a, b, c):\n",
        "\n",
        "  if a == 0:\n",
        "    print('a cannot be zero')\n"
      ],
      "metadata": {
        "id": "RSME48qdjImO"
      },
      "execution_count": null,
      "outputs": []
    },
    {
      "cell_type": "code",
      "source": [
        "# Challenge\n",
        "# in the previous challenge, provide conditions for user input\n",
        "# that is not a number\n",
        "# also provide an evaluation when the inputs of a,b,c do not\n",
        "# give real values\n",
        "# sqrt (b**2 - 4*a*c)\n",
        "# sqrt (-20)\n",
        "import math\n",
        "\n",
        "def solve_quadratic(a, b, c):\n",
        "    # Calculate the discriminant\n",
        "    discriminant = b**2 - 4*a*c\n",
        "\n",
        "    # Check the nature of the roots\n",
        "    if discriminant > 0:\n",
        "        root1 = (-b + math.sqrt(discriminant)) / (2*a)\n",
        "        root2 = (-b - math.sqrt(discriminant)) / (2*a)\n",
        "        return f\"Two real roots: {root1} and {root2}\"\n",
        "    elif discriminant == 0:\n",
        "        root = -b / (2*a)\n",
        "        return f\"One real root: {root}\"\n",
        "    else:\n",
        "        return \"No real roots (discriminant is negative)\"\n",
        "\n",
        "# Example usage:\n",
        "a = float(input(\"Enter a: \"))\n",
        "b = float(input(\"Enter b: \"))\n",
        "c = float(input(\"Enter c: \"))\n",
        "\n",
        "print(solve_quadratic(a, b, c))\n"
      ],
      "metadata": {
        "id": "eBBNwvEgIxwM"
      },
      "execution_count": null,
      "outputs": []
    },
    {
      "cell_type": "code",
      "source": [
        "# Challenge\n",
        "# write a function that gives us the maximum number in a list of numbers\n",
        "def get_maximum(numbers):\n",
        "    if not numbers:\n",
        "        return None  # Return None if the list is empty\n",
        "\n",
        "    max_num = numbers[0]  # Assume first number is the largest to start\n",
        "\n",
        "    for num in numbers:\n",
        "        if num > max_num:\n",
        "            max_num = num\n",
        "\n",
        "    return max_num\n",
        "\n",
        "# Example usage\n",
        "num_list = [3, 7, 2, 9, 5]\n",
        "maximum = get_maximum(num_list)\n",
        "print(f\"The maximum number is: {maximum}\")"
      ],
      "metadata": {
        "id": "7enWOKHSJTeG",
        "colab": {
          "base_uri": "https://localhost:8080/"
        },
        "outputId": "83d960eb-0d5b-4fe4-e869-78fa15928cd5"
      },
      "execution_count": null,
      "outputs": [
        {
          "output_type": "stream",
          "name": "stdout",
          "text": [
            "The maximum number is: 9\n"
          ]
        }
      ]
    },
    {
      "cell_type": "code",
      "source": [
        "# Challenge\n",
        "# write a function that gives us the minimum number in a list of numbers\n",
        "def get_minimum(numbers):\n",
        "    if not numbers:\n",
        "        return None  # Return None if the list is empty\n",
        "\n",
        "    min_num = numbers[0]  # Start by assuming the first number is the smallest\n",
        "\n",
        "    for num in numbers:\n",
        "        if num < min_num:\n",
        "            min_num = num\n",
        "\n",
        "    return min_num\n",
        "\n",
        "# Example usage\n",
        "num_list = [8, 3, 5, 1, 9]\n",
        "minimum = get_minimum(num_list)\n",
        "print(f\"The minimum number is: {minimum}\")\n"
      ],
      "metadata": {
        "id": "b6QiUoxbJV2u",
        "colab": {
          "base_uri": "https://localhost:8080/"
        },
        "outputId": "fe8a41f6-41bd-40e1-91de-f8d7ab0496ea"
      },
      "execution_count": null,
      "outputs": [
        {
          "output_type": "stream",
          "name": "stdout",
          "text": [
            "The minimum number is: 1\n"
          ]
        }
      ]
    },
    {
      "cell_type": "code",
      "source": [
        "# Challenge\n",
        "# write a function that gives us the number of occurences of an item in a list\n",
        "def count_occurrences(items, target):\n",
        "    count = 0\n",
        "    for item in items:\n",
        "        if item == target:\n",
        "            count += 1\n",
        "    return count\n",
        "\n",
        "# Example usage\n",
        "my_list = [1, 2, 3, 2, 4, 2, 5]\n",
        "target_item = 2\n",
        "occurrences = count_occurrences(my_list, target_item)\n",
        "print(f\"The number {target_item} appears {occurrences} times in the list.\")\n"
      ],
      "metadata": {
        "id": "WPhz9EOmJa1z",
        "colab": {
          "base_uri": "https://localhost:8080/"
        },
        "outputId": "e96737cb-18a5-411d-c629-ebebefd9fce9"
      },
      "execution_count": null,
      "outputs": [
        {
          "output_type": "stream",
          "name": "stdout",
          "text": [
            "The number 2 appears 3 times in the list.\n"
          ]
        }
      ]
    },
    {
      "cell_type": "code",
      "source": [
        "# Challenge\n",
        "# write a function that gives us the frequency distribution of items in a list\n",
        "def frequency_distribution(items):\n",
        "    freq_dict = {}\n",
        "    for item in items:\n",
        "        if item in freq_dict:\n",
        "            freq_dict[item] += 1\n",
        "        else:\n",
        "            freq_dict[item] = 1\n",
        "    return freq_dict\n",
        "\n",
        "# Example usage\n",
        "my_list = ['apple', 'banana', 'apple', 'orange', 'banana', 'apple']\n",
        "frequencies = frequency_distribution(my_list)\n",
        "\n",
        "# Display the result\n",
        "for item, count in frequencies.items():\n",
        "    print(f\"{item}: {count}\")\n"
      ],
      "metadata": {
        "id": "X4nBX7WNJiH-",
        "colab": {
          "base_uri": "https://localhost:8080/"
        },
        "outputId": "bfd82d8b-06fc-4bac-ba31-7144c2180104"
      },
      "execution_count": null,
      "outputs": [
        {
          "output_type": "stream",
          "name": "stdout",
          "text": [
            "apple: 3\n",
            "banana: 2\n",
            "orange: 1\n"
          ]
        }
      ]
    },
    {
      "cell_type": "code",
      "source": [
        "print(frequencies)"
      ],
      "metadata": {
        "colab": {
          "base_uri": "https://localhost:8080/"
        },
        "id": "OW6vBrjYlmjc",
        "outputId": "6fcac97c-541d-4fba-d8a9-d9e946fa7b0a"
      },
      "execution_count": null,
      "outputs": [
        {
          "output_type": "stream",
          "name": "stdout",
          "text": [
            "{'apple': 3, 'banana': 2, 'orange': 1}\n"
          ]
        }
      ]
    },
    {
      "cell_type": "code",
      "source": [
        "from collections import Counter\n",
        "\n",
        "def frequency_distribution(items):\n",
        "    freq_dict = Counter(my_list)\n",
        "    return freq_dict\n",
        "frequency_distribution(my_list)"
      ],
      "metadata": {
        "colab": {
          "base_uri": "https://localhost:8080/"
        },
        "id": "0L4Orm4cmgzJ",
        "outputId": "66b28435-31ef-4c2e-e403-765568fe8112"
      },
      "execution_count": null,
      "outputs": [
        {
          "output_type": "execute_result",
          "data": {
            "text/plain": [
              "Counter({'apple': 3, 'banana': 2, 'orange': 1})"
            ]
          },
          "metadata": {},
          "execution_count": 5
        }
      ]
    },
    {
      "cell_type": "code",
      "source": [
        "def simple_plot(x, y, title = 'plot x and y'):\n",
        "  import matplotlib.pyplot as plt\n",
        "  plt.plot(x, y)\n",
        "  plt.title(title)\n",
        "  plt.xlabel('x')\n",
        "  plt.ylabel('y')\n",
        "  plt.show()\n",
        "\n",
        "x = [1,2,3,4,5,6,7,8,9,10]\n",
        "y = [1,4,9,16,25,36,49,64,81,100]\n",
        "\n",
        "simple_plot(x, y)"
      ],
      "metadata": {
        "colab": {
          "base_uri": "https://localhost:8080/",
          "height": 472
        },
        "id": "zm4nfC-1lfV5",
        "outputId": "7081c088-6d9b-481e-d4a3-6ccb28c8919a"
      },
      "execution_count": null,
      "outputs": [
        {
          "output_type": "display_data",
          "data": {
            "text/plain": [
              "<Figure size 640x480 with 1 Axes>"
            ],
            "image/png": "[encoded data removed]"
          },
          "metadata": {}
        }
      ]
    },
    {
      "cell_type": "code",
      "source": [
        "x= [1,1,2,3,5,8,13,21,34,55,89]\n",
        "y = [i**2 for i in x]\n",
        "y"
      ],
      "metadata": {
        "colab": {
          "base_uri": "https://localhost:8080/"
        },
        "id": "qaUlcw6RnVLC",
        "outputId": "bf66344a-b218-45ca-f82b-6a4a65de6b1b"
      },
      "execution_count": null,
      "outputs": [
        {
          "output_type": "execute_result",
          "data": {
            "text/plain": [
              "[1, 1, 4, 9, 25, 64, 169, 441, 1156, 3025, 7921]"
            ]
          },
          "metadata": {},
          "execution_count": 22
        }
      ]
    },
    {
      "cell_type": "code",
      "source": [
        "simple_plot(x,y)"
      ],
      "metadata": {
        "colab": {
          "base_uri": "https://localhost:8080/",
          "height": 472
        },
        "id": "6FJclrarpF4R",
        "outputId": "cb04aa0a-75f2-4656-eb66-cf9214debe76"
      },
      "execution_count": null,
      "outputs": [
        {
          "output_type": "display_data",
          "data": {
            "text/plain": [
              "<Figure size 640x480 with 1 Axes>"
            ],
            "image/png": "[encoded data removed]"
          },
          "metadata": {}
        }
      ]
    },
    {
      "cell_type": "code",
      "source": [],
      "metadata": {
        "colab": {
          "base_uri": "https://localhost:8080/"
        },
        "id": "aFZ4XPmarbBq",
        "outputId": "b1b6a7c8-bd49-4a53-f95f-420003d49e4f"
      },
      "execution_count": null,
      "outputs": [
        {
          "output_type": "execute_result",
          "data": {
            "text/plain": [
              "[1, 4, 9, 16]"
            ]
          },
          "metadata": {},
          "execution_count": 19
        }
      ]
    },
    {
      "cell_type": "code",
      "source": [
        "a= 4\n",
        "b=6\n",
        "c = a+b\n",
        "print(c)"
      ],
      "metadata": {
        "id": "aY0d0L6Qr_Q5",
        "colab": {
          "base_uri": "https://localhost:8080/"
        },
        "outputId": "4c25adc1-f6c2-498e-de04-661be9b298ee"
      },
      "execution_count": 3,
      "outputs": [
        {
          "output_type": "stream",
          "name": "stdout",
          "text": [
            "10\n"
          ]
        }
      ]
    }
  ]
}